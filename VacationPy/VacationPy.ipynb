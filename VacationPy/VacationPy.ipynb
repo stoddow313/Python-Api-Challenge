{
 "cells": [
  {
   "cell_type": "markdown",
   "metadata": {},
   "source": [
    "# VacationPy\n",
    "---\n",
    "\n",
    "## Starter Code to Import Libraries and Load the Weather and Coordinates Data"
   ]
  },
  {
   "cell_type": "code",
   "execution_count": 47,
   "metadata": {},
   "outputs": [],
   "source": [
    "# Dependencies and Setup\n",
    "import hvplot.pandas\n",
    "import pandas as pd\n",
    "import requests\n",
    "import json\n",
    "from pprint import pprint\n",
    "\n",
    "# Import API key\n",
    "from api_keys import geoapify_key"
   ]
  },
  {
   "cell_type": "code",
   "execution_count": 49,
   "metadata": {},
   "outputs": [
    {
     "data": {
      "text/html": [
       "<div>\n",
       "<style scoped>\n",
       "    .dataframe tbody tr th:only-of-type {\n",
       "        vertical-align: middle;\n",
       "    }\n",
       "\n",
       "    .dataframe tbody tr th {\n",
       "        vertical-align: top;\n",
       "    }\n",
       "\n",
       "    .dataframe thead th {\n",
       "        text-align: right;\n",
       "    }\n",
       "</style>\n",
       "<table border=\"1\" class=\"dataframe\">\n",
       "  <thead>\n",
       "    <tr style=\"text-align: right;\">\n",
       "      <th></th>\n",
       "      <th>City_ID</th>\n",
       "      <th>City</th>\n",
       "      <th>Lat</th>\n",
       "      <th>Lng</th>\n",
       "      <th>Max Temp</th>\n",
       "      <th>Humidity</th>\n",
       "      <th>Cloudiness</th>\n",
       "      <th>Windspeed</th>\n",
       "      <th>Country</th>\n",
       "      <th>Date</th>\n",
       "    </tr>\n",
       "  </thead>\n",
       "  <tbody>\n",
       "    <tr>\n",
       "      <th>0</th>\n",
       "      <td>0</td>\n",
       "      <td>talnakh</td>\n",
       "      <td>69.4865</td>\n",
       "      <td>88.3972</td>\n",
       "      <td>69.21</td>\n",
       "      <td>66</td>\n",
       "      <td>9</td>\n",
       "      <td>5.01</td>\n",
       "      <td>RU</td>\n",
       "      <td>1690405425</td>\n",
       "    </tr>\n",
       "    <tr>\n",
       "      <th>1</th>\n",
       "      <td>1</td>\n",
       "      <td>navoiy</td>\n",
       "      <td>40.0844</td>\n",
       "      <td>65.3792</td>\n",
       "      <td>81.88</td>\n",
       "      <td>18</td>\n",
       "      <td>0</td>\n",
       "      <td>4.61</td>\n",
       "      <td>UZ</td>\n",
       "      <td>1690405653</td>\n",
       "    </tr>\n",
       "    <tr>\n",
       "      <th>2</th>\n",
       "      <td>2</td>\n",
       "      <td>chonchi</td>\n",
       "      <td>-42.6128</td>\n",
       "      <td>-73.8092</td>\n",
       "      <td>48.11</td>\n",
       "      <td>93</td>\n",
       "      <td>100</td>\n",
       "      <td>0.92</td>\n",
       "      <td>CL</td>\n",
       "      <td>1690405654</td>\n",
       "    </tr>\n",
       "    <tr>\n",
       "      <th>3</th>\n",
       "      <td>3</td>\n",
       "      <td>yellowknife</td>\n",
       "      <td>62.4560</td>\n",
       "      <td>-114.3525</td>\n",
       "      <td>75.60</td>\n",
       "      <td>30</td>\n",
       "      <td>1</td>\n",
       "      <td>11.48</td>\n",
       "      <td>CA</td>\n",
       "      <td>1690405654</td>\n",
       "    </tr>\n",
       "    <tr>\n",
       "      <th>4</th>\n",
       "      <td>4</td>\n",
       "      <td>port-aux-francais</td>\n",
       "      <td>-49.3500</td>\n",
       "      <td>70.2167</td>\n",
       "      <td>41.31</td>\n",
       "      <td>77</td>\n",
       "      <td>84</td>\n",
       "      <td>42.48</td>\n",
       "      <td>TF</td>\n",
       "      <td>1690405655</td>\n",
       "    </tr>\n",
       "  </tbody>\n",
       "</table>\n",
       "</div>"
      ],
      "text/plain": [
       "   City_ID               City      Lat       Lng  Max Temp  Humidity  \\\n",
       "0        0            talnakh  69.4865   88.3972     69.21        66   \n",
       "1        1             navoiy  40.0844   65.3792     81.88        18   \n",
       "2        2            chonchi -42.6128  -73.8092     48.11        93   \n",
       "3        3        yellowknife  62.4560 -114.3525     75.60        30   \n",
       "4        4  port-aux-francais -49.3500   70.2167     41.31        77   \n",
       "\n",
       "   Cloudiness  Windspeed Country        Date  \n",
       "0           9       5.01      RU  1690405425  \n",
       "1           0       4.61      UZ  1690405653  \n",
       "2         100       0.92      CL  1690405654  \n",
       "3           1      11.48      CA  1690405654  \n",
       "4          84      42.48      TF  1690405655  "
      ]
     },
     "execution_count": 49,
     "metadata": {},
     "output_type": "execute_result"
    }
   ],
   "source": [
    "# Load the CSV file created in Part 1 into a Pandas DataFrame\n",
    "city_data_df = pd.read_csv(r\"C:\\Users\\wstod\\OneDrive\\Desktop\\Python-Api-Challenge\\cities.csv\")\n",
    "\n",
    "# Display sample data\n",
    "city_data_df.head()"
   ]
  },
  {
   "cell_type": "markdown",
   "metadata": {},
   "source": [
    "---\n",
    "\n",
    "### Step 1: Create a map that displays a point for every city in the `city_data_df` DataFrame. The size of the point should be the humidity in each city."
   ]
  },
  {
   "cell_type": "code",
   "execution_count": 50,
   "metadata": {},
   "outputs": [
    {
     "data": {},
     "metadata": {},
     "output_type": "display_data"
    },
    {
     "data": {
      "application/vnd.holoviews_exec.v0+json": "",
      "text/html": [
       "<div id='1440'>\n",
       "  <div class=\"bk-root\" id=\"d1bf3312-6af1-403f-af15-42e9f3b4e6cb\" data-root-id=\"1440\"></div>\n",
       "</div>\n",
       "<script type=\"application/javascript\">(function(root) {\n",
       "  function embed_document(root) {\n",
       "    var docs_json = {\"e660c7a5-1185-43a3-8cec-4819c95e3525\":{\"defs\":[{\"extends\":null,\"module\":null,\"name\":\"ReactiveHTML1\",\"overrides\":[],\"properties\":[]},{\"extends\":null,\"module\":null,\"name\":\"FlexBox1\",\"overrides\":[],\"properties\":[{\"default\":\"flex-start\",\"kind\":null,\"name\":\"align_content\"},{\"default\":\"flex-start\",\"kind\":null,\"name\":\"align_items\"},{\"default\":\"row\",\"kind\":null,\"name\":\"flex_direction\"},{\"default\":\"wrap\",\"kind\":null,\"name\":\"flex_wrap\"},{\"default\":\"flex-start\",\"kind\":null,\"name\":\"justify_content\"}]},{\"extends\":null,\"module\":null,\"name\":\"GridStack1\",\"overrides\":[],\"properties\":[{\"default\":\"warn\",\"kind\":null,\"name\":\"mode\"},{\"default\":null,\"kind\":null,\"name\":\"ncols\"},{\"default\":null,\"kind\":null,\"name\":\"nrows\"},{\"default\":true,\"kind\":null,\"name\":\"allow_resize\"},{\"default\":true,\"kind\":null,\"name\":\"allow_drag\"},{\"default\":[],\"kind\":null,\"name\":\"state\"}]},{\"extends\":null,\"module\":null,\"name\":\"click1\",\"overrides\":[],\"properties\":[{\"default\":\"\",\"kind\":null,\"name\":\"terminal_output\"},{\"default\":\"\",\"kind\":null,\"name\":\"debug_name\"},{\"default\":0,\"kind\":null,\"name\":\"clears\"}]},{\"extends\":null,\"module\":null,\"name\":\"NotificationAreaBase1\",\"overrides\":[],\"properties\":[{\"default\":\"bottom-right\",\"kind\":null,\"name\":\"position\"},{\"default\":0,\"kind\":null,\"name\":\"_clear\"}]},{\"extends\":null,\"module\":null,\"name\":\"NotificationArea1\",\"overrides\":[],\"properties\":[{\"default\":[],\"kind\":null,\"name\":\"notifications\"},{\"default\":\"bottom-right\",\"kind\":null,\"name\":\"position\"},{\"default\":0,\"kind\":null,\"name\":\"_clear\"},{\"default\":[{\"background\":\"#ffc107\",\"icon\":{\"className\":\"fas fa-exclamation-triangle\",\"color\":\"white\",\"tagName\":\"i\"},\"type\":\"warning\"},{\"background\":\"#007bff\",\"icon\":{\"className\":\"fas fa-info-circle\",\"color\":\"white\",\"tagName\":\"i\"},\"type\":\"info\"}],\"kind\":null,\"name\":\"types\"}]},{\"extends\":null,\"module\":null,\"name\":\"Notification\",\"overrides\":[],\"properties\":[{\"default\":null,\"kind\":null,\"name\":\"background\"},{\"default\":3000,\"kind\":null,\"name\":\"duration\"},{\"default\":null,\"kind\":null,\"name\":\"icon\"},{\"default\":\"\",\"kind\":null,\"name\":\"message\"},{\"default\":null,\"kind\":null,\"name\":\"notification_type\"},{\"default\":false,\"kind\":null,\"name\":\"_destroyed\"}]},{\"extends\":null,\"module\":null,\"name\":\"TemplateActions1\",\"overrides\":[],\"properties\":[{\"default\":0,\"kind\":null,\"name\":\"open_modal\"},{\"default\":0,\"kind\":null,\"name\":\"close_modal\"}]},{\"extends\":null,\"module\":null,\"name\":\"MaterialTemplateActions1\",\"overrides\":[],\"properties\":[{\"default\":0,\"kind\":null,\"name\":\"open_modal\"},{\"default\":0,\"kind\":null,\"name\":\"close_modal\"}]}],\"roots\":{\"references\":[{\"attributes\":{},\"id\":\"1467\",\"type\":\"SaveTool\"},{\"attributes\":{\"click_policy\":\"mute\",\"coordinates\":null,\"group\":null,\"items\":[{\"id\":\"1529\"}],\"location\":[0,0]},\"id\":\"1528\",\"type\":\"Legend\"},{\"attributes\":{\"match_aspect\":true,\"overlay\":{\"id\":\"1472\"}},\"id\":\"1470\",\"type\":\"BoxZoomTool\"},{\"attributes\":{},\"id\":\"1471\",\"type\":\"ResetTool\"},{\"attributes\":{\"fill_alpha\":{\"value\":0.2},\"fill_color\":{\"field\":\"color\",\"transform\":{\"id\":\"1511\"}},\"hatch_alpha\":{\"value\":0.2},\"hatch_color\":{\"field\":\"color\",\"transform\":{\"id\":\"1511\"}},\"line_alpha\":{\"value\":0.2},\"line_color\":{\"field\":\"color\",\"transform\":{\"id\":\"1511\"}},\"size\":{\"field\":\"size\"},\"tags\":[\"apply_ranges\"],\"x\":{\"field\":\"Lng\"},\"y\":{\"field\":\"Lat\"}},\"id\":\"1519\",\"type\":\"Scatter\"},{\"attributes\":{\"bottom_units\":\"screen\",\"coordinates\":null,\"fill_alpha\":0.5,\"fill_color\":\"lightgrey\",\"group\":null,\"left_units\":\"screen\",\"level\":\"overlay\",\"line_alpha\":1.0,\"line_color\":\"black\",\"line_dash\":[4,4],\"line_width\":2,\"right_units\":\"screen\",\"syncable\":false,\"top_units\":\"screen\"},\"id\":\"1472\",\"type\":\"BoxAnnotation\"},{\"attributes\":{\"code\":\"\\n        var projections = Bokeh.require(\\\"core/util/projections\\\");\\n        var x = special_vars.data_x\\n        var y = special_vars.data_y\\n        var coords = projections.wgs84_mercator.invert(x, y)\\n        return \\\"\\\" + (coords[1]).toFixed(4)\\n    \"},\"id\":\"1531\",\"type\":\"CustomJSHover\"},{\"attributes\":{\"dimension\":\"lat\"},\"id\":\"1483\",\"type\":\"MercatorTickFormatter\"},{\"attributes\":{\"coordinates\":null,\"data_source\":{\"id\":\"1512\"},\"glyph\":{\"id\":\"1515\"},\"group\":null,\"hover_glyph\":{\"id\":\"1518\"},\"muted_glyph\":{\"id\":\"1519\"},\"nonselection_glyph\":{\"id\":\"1516\"},\"selection_glyph\":{\"id\":\"1517\"},\"view\":{\"id\":\"1521\"}},\"id\":\"1520\",\"type\":\"GlyphRenderer\"},{\"attributes\":{\"factors\":[\"talnakh\",\"navoiy\",\"chonchi\",\"yellowknife\",\"port-aux-francais\",\"utrik\",\"longyearbyen\",\"spanish springs\",\"fale old settlement\",\"keflavik\",\"avarua\",\"college\",\"puerto natales\",\"nuuk\",\"qui nhon\",\"grytviken\",\"deniliquin\",\"albany\",\"kirakira\",\"hermanus\",\"hohhot\",\"ancud\",\"mana\",\"lihue\",\"touros\",\"west island\",\"novoishimskiy\",\"port elizabeth\",\"carhuaz\",\"holualoa\",\"kingston\",\"papatowai\",\"son servera\",\"aasiaat\",\"enewetak\",\"tamanrasset\",\"al kharijah\",\"penafiel\",\"bubaque\",\"lorengau\",\"nar'yan-mar\",\"bredasdorp\",\"az zulfi\",\"bethel\",\"chos malal\",\"huetamo de nunez\",\"kapa'a\",\"edinburgh of the seven seas\",\"nueva gerona\",\"port lincoln\",\"tura\",\"howrah\",\"margaret river\",\"port macquarie\",\"whitehorse\",\"isafjordur\",\"hadibu\",\"adamstown\",\"lompoc\",\"meadow lake\",\"klyuchi\",\"tiksi\",\"sanya\",\"blackmans bay\",\"susuman\",\"timimoun\",\"murzuq\",\"stornoway\",\"hastings\",\"belmonte\",\"waitangi\",\"bilibino\",\"haiku-pauwela\",\"pazarcik\",\"saint-philippe\",\"port mathurin\",\"monte carmelo\",\"yenisarbademli\",\"makokou\",\"oranjemund\",\"rabigh\",\"petropavlovsk-kamchatsky\",\"thompson\",\"ban houakhoua\",\"aksu\",\"iqaluit\",\"invercargill\",\"lerwick\",\"ushuaia\",\"san ignacio de velasco\",\"ust-nera\",\"rio gallegos\",\"minas de marcona\",\"zarah sharan\",\"salalah\",\"qaqortoq\",\"sitka\",\"alipur\",\"santa cruz de tenerife\",\"stanley\",\"guerrero negro\",\"newman\",\"gereida\",\"naracoorte\",\"st. john's\",\"luderitz\",\"svetlyy yar\",\"gandai\",\"kodiak\",\"ribeira grande\",\"south hedland\",\"rongelap\",\"usogorsk\",\"portland\",\"vung tau\",\"sosnovka\",\"barra\",\"georgetown\",\"saudarkrokur\",\"ibarreta\",\"tangalle\",\"labrador city\",\"wailua homesteads\",\"posto fiscal rolim de moura\",\"arraial do cabo\",\"pestovo\",\"nyaunglebin\",\"bargaal\",\"baihe\",\"new norfolk\",\"port alfred\",\"palikir - national government center\",\"nha trang\",\"cabo san lucas\",\"elliot lake\",\"inari\",\"kone\",\"itoman\",\"saynshand\",\"carnarvon\",\"broken hill\",\"atafu village\",\"sinabang\",\"ilulissat\",\"olonkinbyen\",\"puerto ayora\",\"mammoth lakes\",\"khanty-mansiysk\",\"bardai\",\"shwebo\",\"lagunas\",\"badger\",\"toliara\",\"vorgashor\",\"rikaze\",\"st ives\",\"chilon\",\"marsa alam\",\"malakal\",\"altai\",\"correia pinto\",\"hudiksvall\",\"obudu\",\"uturoa\",\"hawaiian paradise park\",\"baharly\",\"codrington\",\"suntar\",\"victorica\",\"karratha\",\"ismayilli\",\"colesberg\",\"kyaikkami\",\"la ronge\",\"yuzhno-kurilsk\",\"lazaro cardenas\",\"saipan\",\"california city\",\"taroa\",\"sturgis\",\"mossel bay\",\"saint-pierre\",\"inarajan village\",\"zyryanskoye\",\"petrolina\",\"hasaki\",\"solwezi\",\"carbonear\",\"kyshtovka\",\"alofi\",\"severo-yeniseyskiy\",\"san-pedro\",\"aguadas\",\"vrutok\",\"praia da vitoria\",\"pundong\",\"caleta de carquin\",\"zaozersk\",\"coquimbo\",\"sultanah\",\"collie\",\"aulnoye-aymeries\",\"doka\",\"norilsk\",\"tshela\",\"constantia\",\"saldanha\",\"ulsteinvik\",\"gadzhiyevo\",\"sayan\",\"nemuro\",\"howard springs\",\"brokopondo\",\"tazovsky\",\"alaghsas\",\"tazacorte\",\"naze\",\"alice springs\",\"mar del plata\",\"oum hadjer\",\"gannan\",\"san antonio de pale\",\"antalaha\",\"kimbe\",\"vadso\",\"qaryat suluq\",\"kiunga\",\"mersing\",\"colonia\",\"lebu\",\"okha\",\"camacupa\",\"ghat\",\"nikolayevsk-on-amure\",\"jamestown\",\"nuku'alofa\",\"enshi\",\"morehead city\",\"gandorhun\",\"atlantic\",\"concepcion\",\"salta\",\"les cayes\",\"loreto\",\"fuyu\",\"weno\",\"surskoye\",\"anadyr\",\"st. paul\",\"medvedovskaya\",\"ligaya\",\"linghai\",\"aldan\",\"heihe\",\"seven pagodas\",\"magadan\",\"inhambane\",\"vershino-darasunskiy\",\"santa marta\",\"villazon\",\"yadgir\",\"tsiombe\",\"fortaleza\",\"san matias\",\"tionk essil\",\"tofol\",\"usinsk\",\"jalgaon jamod\",\"dudinka\",\"tolanaro\",\"iskateley\",\"malango\",\"shahpur\",\"palangkaraya\",\"udachny\",\"kamina\",\"bembereke\",\"ciudad lazaro cardenas\",\"pechora\",\"dzilam gonzalez\",\"porto novo\",\"beau vallon\",\"nabire\",\"gewane\",\"kingscliff\",\"martapura\",\"kangding\",\"hithadhoo\",\"pyhajarvi\",\"yerofey pavlovich\",\"mogocha\",\"neya\",\"barcelos\",\"northam\",\"sabha\",\"afaahiti\",\"carutapera\",\"launceston\",\"erenhot\",\"potam\",\"witu\",\"grand-bourg\",\"santa ana de yacuma\",\"shalqar\",\"kargasok\",\"savanna-la-mar\",\"nema\",\"moranbah\",\"sao raimundo das mangabeiras\",\"golyshmanovo\",\"pacific grove\",\"paharpur\",\"xai-xai\",\"mandera\",\"sao francisco\",\"srednebelaya\",\"gaspe\",\"valley city\",\"benguela\",\"punta arenas\",\"kurlovo\",\"macusani\",\"hakui\",\"zinjibar\",\"nantucket\",\"hwange\",\"moyynkum\",\"masterton\",\"pizarro\",\"rabaul\",\"chamical\",\"piti village\",\"shiguai\",\"dauphin\",\"el alto\",\"lagoa\",\"deqen\",\"bengbu\",\"kralendijk\",\"nacala\",\"mirabad\",\"nowshahr\",\"yichang\",\"kyzyl-suu\",\"lumphat\",\"hamilton\",\"vilyuchinsk\",\"motueka\",\"tokar\",\"bomdila\",\"khandyga\",\"port hedland\",\"santo domingo\",\"nouadhibou\",\"belo sur tsiribihina\",\"puerto armuelles\",\"grosse pointe farms\",\"menongue\",\"calama\",\"santa elena de uairen\",\"sinop\",\"gao\",\"dryden\",\"novodvinsk\",\"parabel'\",\"taoudenni\",\"barano d'ischia\",\"flekkefjord\",\"sao vicente\",\"nadym\",\"mount gambier\",\"ballina\",\"wuwei\",\"borsad\",\"yuncheng\",\"caspe\",\"egilsstadir\",\"colares\",\"conde\",\"cole harbour\",\"antigonish\",\"vilyuysk\",\"toro\",\"nanao\",\"fallon\",\"aykhal\",\"coihueco\",\"mirnyy\",\"tara\",\"pandan\",\"prince rupert\",\"opuwo\",\"tralee\",\"port saint john's\",\"namibe\",\"east london\",\"kyzyl-mazhalyk\",\"situbondo\",\"forio\",\"kailua-kona\",\"puerto baquerizo moreno\",\"sidi khaled\",\"ta`u\",\"sale\",\"douz\",\"duluth\",\"prairie du chien\",\"laghouat\",\"lata\",\"andrelandia\",\"pedersore\",\"springbok\",\"almodovar\",\"xining\",\"chulym\",\"fort-shevchenko\",\"mount pearl\",\"puerto deseado\",\"coyhaique\",\"solvang\",\"laguna\",\"dedza\",\"san andres\",\"villa gesell\",\"tarawa\",\"borova\",\"skeldon\",\"lamar\",\"barranca\",\"kayangel\",\"peace river\",\"sandnessjoen\",\"sos'va\",\"huarmey\",\"atkarsk\",\"kijang\",\"siocon\",\"contamana\",\"klaksvik\",\"zheshart\",\"dwarka\",\"lai chau\",\"arizona city\",\"balboa\",\"derebucak\",\"kill devil hills\",\"leua\",\"kuanda\",\"hammerfest\",\"griffith\",\"ulladulla\",\"tabas\",\"acajutla\",\"remire-montjoly\",\"muromtsevo\",\"oyama\",\"poso\",\"cartagena\",\"kretinga\",\"betafo\",\"chui\",\"ar ruseris\",\"bogale\",\"dongargarh\",\"monki\",\"kasongo-lunda\",\"antsiranana\",\"tulun\",\"kirzhach\",\"sao joao da barra\",\"siwa oasis\",\"buckhannon\",\"kourou\",\"barra do corda\",\"zhaotong\",\"queenstown\",\"gizo\",\"saguenay\",\"kurumkan\",\"la'ie\",\"cadale\",\"cutral-co\",\"bukoba\",\"xaltianguis\",\"belding\",\"turinsk\",\"emkhomazi\",\"changli\",\"santona\",\"ulaangom\",\"mount isa\",\"fuglafjordur\",\"pangkalanbuun\",\"portoferraio\",\"bonthe\",\"borisovka\",\"berezovyy\",\"margate\",\"yigo village\",\"bocsa\",\"vertientes\",\"hyesan\",\"patterson\",\"jaggayyapeta\",\"dzhankoy\",\"san luis de la loma\",\"buka\",\"matonga\",\"cabedelo\",\"pangody\",\"irtyshsk\",\"davlekanovo\",\"yulinshi\",\"ilorin\",\"saint-joseph\",\"veinticinco de mayo\",\"narimanov\",\"sabang\",\"katsuura\",\"doaba\",\"buenavista del norte\",\"richards bay\",\"kamaishi\",\"paramonga\",\"kapuskasing\",\"grand-bassam\",\"morag\",\"likiep\",\"konstantinovka\",\"gold camp\",\"puerto aysen\",\"bodaybo\",\"khowy\",\"katiola\",\"bucak\",\"chernyshevskiy\",\"san sebastian de la gomera\",\"idri\",\"ola\",\"strezhevoy\",\"kununurra\",\"irkutsk\",\"el calafate\",\"reinosa\",\"andapa\",\"mirny\",\"maragogi\",\"pangai\",\"polyarnyy\",\"san blas\",\"amga\",\"riverside\",\"ormara\",\"seydi\",\"kerikeri\",\"cassilandia\",\"murghob\",\"san rafael\",\"sakchu-up\",\"jean-rabel\",\"kurchatov\",\"tirumullaivasal\",\"kitimat\",\"bayanhongor\",\"juneau\",\"kristiansund\",\"kuraymah\",\"karaton\",\"khenchela\",\"auki\",\"masuguru\",\"vernon\",\"nguru\",\"mahdia\",\"ongjin\",\"vilhena\",\"san patricio\",\"crane\",\"jbail\",\"zalingei\",\"onguday\",\"geraldton\",\"umluj\",\"kiama\",\"duyun\",\"vuktyl\",\"devils lake\",\"labytnangi\",\"revda\",\"stillwater\",\"rimouski\"],\"palette\":[\"#1f77b3\",\"#ff7e0e\",\"#2ba02b\",\"#d62628\",\"#9367bc\",\"#8c564b\",\"#e277c1\",\"#7e7e7e\",\"#bcbc21\",\"#16bdcf\",\"#3a0182\",\"#004201\",\"#0fffa8\",\"#5d003f\",\"#bcbcff\",\"#d8afa1\",\"#b80080\",\"#004d52\",\"#6b6400\",\"#7c0100\",\"#6026ff\",\"#ffff9a\",\"#564964\",\"#8cb893\",\"#93fbff\",\"#018267\",\"#90ff00\",\"#8200a0\",\"#ac8944\",\"#5b3400\",\"#ffbff2\",\"#ff6e75\",\"#798cff\",\"#dd00ff\",\"#505646\",\"#004489\",\"#ffbf60\",\"#ff018c\",\"#bdc8cf\",\"#af97b5\",\"#b65600\",\"#017000\",\"#cd87ff\",\"#1cd646\",\"#bfebc3\",\"#7997b5\",\"#a56089\",\"#6e8956\",\"#bc7c75\",\"#8a2844\",\"#00acff\",\"#8ed4ff\",\"#4b6d77\",\"#00d4b1\",\"#9300f2\",\"#8a9500\",\"#5d5b9e\",\"#fddfba\",\"#00939e\",\"#ffdb00\",\"#00aa79\",\"#520067\",\"#000091\",\"#0a5d3d\",\"#a5e275\",\"#623b41\",\"#c6c689\",\"#ff9eb5\",\"#cd4f6b\",\"#ff07d6\",\"#8a3a05\",\"#7e3d70\",\"#ff4901\",\"#602ba5\",\"#1c00ff\",\"#e6dfff\",\"#aa3baf\",\"#d89c00\",\"#a3a39e\",\"#3f69ff\",\"#46490c\",\"#7b6985\",\"#6b978c\",\"#ff9a75\",\"#835bff\",\"#7c6b46\",\"#80b654\",\"#bc0049\",\"#fd93ff\",\"#5d0018\",\"#89d1d1\",\"#9c8cd3\",\"#da6d42\",\"#8a5700\",\"#3b5069\",\"#4b6b3b\",\"#edcfd8\",\"#cfedff\",\"#aa1500\",\"#dfff4f\",\"#ff2a56\",\"#d1499e\",\"#707cb8\",\"#598000\",\"#00e4fd\",\"#774b95\",\"#67d48c\",\"#3d3a72\",\"#ac413f\",\"#d6a166\",\"#c169cd\",\"#69595d\",\"#87aced\",\"#a0a569\",\"#d1aae6\",\"#870062\",\"#00fddb\",\"#672818\",\"#b342ff\",\"#0e59c4\",\"#168742\",\"#90d300\",\"#cd7900\",\"#f959ff\",\"#5b7466\",\"#8eaeb3\",\"#9c7c8c\",\"#4600c6\",\"#6b4d2d\",\"#a56d46\",\"#9e8972\",\"#a8afca\",\"#cd8ca7\",\"#00fd64\",\"#917900\",\"#ff62a1\",\"#f4ffd8\",\"#018cf0\",\"#13aca0\",\"#5b2d59\",\"#89859e\",\"#cfccba\",\"#d4afc4\",\"#dbdd6d\",\"#cffff4\",\"#006485\",\"#006962\",\"#a84167\",\"#2d97c4\",\"#a874ff\",\"#26ba5d\",\"#57b600\",\"#caffa7\",\"#a379aa\",\"#ffbc93\",\"#89e2c1\",\"#0fc8ff\",\"#d400c4\",\"#626d89\",\"#69858e\",\"#4b4d52\",\"#aa6067\",\"#79b5d4\",\"#2b5916\",\"#9a0024\",\"#bdd1f2\",\"#896e67\",\"#69a56b\",\"#855467\",\"#aecdba\",\"#87997e\",\"#cadb00\",\"#9a0390\",\"#ebbc1a\",\"#eb9cd1\",\"#70006e\",\"#b1a131\",\"#ca6b93\",\"#4146a3\",\"#e48c89\",\"#d44400\",\"#c68aca\",\"#b69597\",\"#d41f75\",\"#724bcc\",\"#674d00\",\"#672138\",\"#38564f\",\"#6ebaaa\",\"#853a31\",\"#a5d397\",\"#b8af8e\",\"#d8e4df\",\"#aa00df\",\"#cac1db\",\"#ffdf8c\",\"#e2524d\",\"#66696e\",\"#ff001c\",\"#522d72\",\"#4d906b\",\"#a86d11\",\"#ff9e26\",\"#5ea3af\",\"#c88556\",\"#915997\",\"#a3a1ff\",\"#fdbaba\",\"#242a87\",\"#dbe6a8\",\"#97f2a7\",\"#6793d6\",\"#ba5b3f\",\"#3a5d91\",\"#364f2f\",\"#267c95\",\"#89959a\",\"#cfb356\",\"#004664\",\"#5e5d2f\",\"#8e8e41\",\"#ac3f13\",\"#69953b\",\"#a13d85\",\"#bfb6ba\",\"#acc667\",\"#6469cf\",\"#91af00\",\"#2be2da\",\"#016e36\",\"#ff7952\",\"#42807e\",\"#4fe800\",\"#995428\",\"#5d0a00\",\"#a30057\",\"#0c8700\",\"#5982a7\",\"#ffebfb\",\"#4b6901\",\"#8775d4\",\"#e6c6ff\",\"#a5ffda\",\"#d86e77\",\"#df014b\",\"#69675b\",\"#776ba1\",\"#7e8067\",\"#594685\",\"#0000ca\",\"#7c002a\",\"#97ff72\",\"#b5e2e1\",\"#db52c8\",\"#777734\",\"#57bd8e\",\"#1f77b3\",\"#ff7e0e\",\"#2ba02b\",\"#d62628\",\"#9367bc\",\"#8c564b\",\"#e277c1\",\"#7e7e7e\",\"#bcbc21\",\"#16bdcf\",\"#3a0182\",\"#004201\",\"#0fffa8\",\"#5d003f\",\"#bcbcff\",\"#d8afa1\",\"#b80080\",\"#004d52\",\"#6b6400\",\"#7c0100\",\"#6026ff\",\"#ffff9a\",\"#564964\",\"#8cb893\",\"#93fbff\",\"#018267\",\"#90ff00\",\"#8200a0\",\"#ac8944\",\"#5b3400\",\"#ffbff2\",\"#ff6e75\",\"#798cff\",\"#dd00ff\",\"#505646\",\"#004489\",\"#ffbf60\",\"#ff018c\",\"#bdc8cf\",\"#af97b5\",\"#b65600\",\"#017000\",\"#cd87ff\",\"#1cd646\",\"#bfebc3\",\"#7997b5\",\"#a56089\",\"#6e8956\",\"#bc7c75\",\"#8a2844\",\"#00acff\",\"#8ed4ff\",\"#4b6d77\",\"#00d4b1\",\"#9300f2\",\"#8a9500\",\"#5d5b9e\",\"#fddfba\",\"#00939e\",\"#ffdb00\",\"#00aa79\",\"#520067\",\"#000091\",\"#0a5d3d\",\"#a5e275\",\"#623b41\",\"#c6c689\",\"#ff9eb5\",\"#cd4f6b\",\"#ff07d6\",\"#8a3a05\",\"#7e3d70\",\"#ff4901\",\"#602ba5\",\"#1c00ff\",\"#e6dfff\",\"#aa3baf\",\"#d89c00\",\"#a3a39e\",\"#3f69ff\",\"#46490c\",\"#7b6985\",\"#6b978c\",\"#ff9a75\",\"#835bff\",\"#7c6b46\",\"#80b654\",\"#bc0049\",\"#fd93ff\",\"#5d0018\",\"#89d1d1\",\"#9c8cd3\",\"#da6d42\",\"#8a5700\",\"#3b5069\",\"#4b6b3b\",\"#edcfd8\",\"#cfedff\",\"#aa1500\",\"#dfff4f\",\"#ff2a56\",\"#d1499e\",\"#707cb8\",\"#598000\",\"#00e4fd\",\"#774b95\",\"#67d48c\",\"#3d3a72\",\"#ac413f\",\"#d6a166\",\"#c169cd\",\"#69595d\",\"#87aced\",\"#a0a569\",\"#d1aae6\",\"#870062\",\"#00fddb\",\"#672818\",\"#b342ff\",\"#0e59c4\",\"#168742\",\"#90d300\",\"#cd7900\",\"#f959ff\",\"#5b7466\",\"#8eaeb3\",\"#9c7c8c\",\"#4600c6\",\"#6b4d2d\",\"#a56d46\",\"#9e8972\",\"#a8afca\",\"#cd8ca7\",\"#00fd64\",\"#917900\",\"#ff62a1\",\"#f4ffd8\",\"#018cf0\",\"#13aca0\",\"#5b2d59\",\"#89859e\",\"#cfccba\",\"#d4afc4\",\"#dbdd6d\",\"#cffff4\",\"#006485\",\"#006962\",\"#a84167\",\"#2d97c4\",\"#a874ff\",\"#26ba5d\",\"#57b600\",\"#caffa7\",\"#a379aa\",\"#ffbc93\",\"#89e2c1\",\"#0fc8ff\",\"#d400c4\",\"#626d89\",\"#69858e\",\"#4b4d52\",\"#aa6067\",\"#79b5d4\",\"#2b5916\",\"#9a0024\",\"#bdd1f2\",\"#896e67\",\"#69a56b\",\"#855467\",\"#aecdba\",\"#87997e\",\"#cadb00\",\"#9a0390\",\"#ebbc1a\",\"#eb9cd1\",\"#70006e\",\"#b1a131\",\"#ca6b93\",\"#4146a3\",\"#e48c89\",\"#d44400\",\"#c68aca\",\"#b69597\",\"#d41f75\",\"#724bcc\",\"#674d00\",\"#672138\",\"#38564f\",\"#6ebaaa\",\"#853a31\",\"#a5d397\",\"#b8af8e\",\"#d8e4df\",\"#aa00df\",\"#cac1db\",\"#ffdf8c\",\"#e2524d\",\"#66696e\",\"#ff001c\",\"#522d72\",\"#4d906b\",\"#a86d11\",\"#ff9e26\",\"#5ea3af\",\"#c88556\",\"#915997\",\"#a3a1ff\",\"#fdbaba\",\"#242a87\",\"#dbe6a8\",\"#97f2a7\",\"#6793d6\",\"#ba5b3f\",\"#3a5d91\",\"#364f2f\",\"#267c95\",\"#89959a\",\"#cfb356\",\"#004664\",\"#5e5d2f\",\"#8e8e41\",\"#ac3f13\",\"#69953b\",\"#a13d85\",\"#bfb6ba\",\"#acc667\",\"#6469cf\",\"#91af00\",\"#2be2da\",\"#016e36\",\"#ff7952\",\"#42807e\",\"#4fe800\",\"#995428\",\"#5d0a00\",\"#a30057\",\"#0c8700\",\"#5982a7\",\"#ffebfb\",\"#4b6901\",\"#8775d4\",\"#e6c6ff\",\"#a5ffda\",\"#d86e77\",\"#df014b\",\"#69675b\",\"#776ba1\",\"#7e8067\",\"#594685\",\"#0000ca\",\"#7c002a\",\"#97ff72\",\"#b5e2e1\",\"#db52c8\",\"#777734\",\"#57bd8e\",\"#1f77b3\",\"#ff7e0e\",\"#2ba02b\",\"#d62628\",\"#9367bc\",\"#8c564b\",\"#e277c1\",\"#7e7e7e\",\"#bcbc21\",\"#16bdcf\",\"#3a0182\",\"#004201\",\"#0fffa8\",\"#5d003f\",\"#bcbcff\",\"#d8afa1\",\"#b80080\",\"#004d52\",\"#6b6400\",\"#7c0100\",\"#6026ff\",\"#ffff9a\",\"#564964\",\"#8cb893\",\"#93fbff\",\"#018267\",\"#90ff00\",\"#8200a0\",\"#ac8944\",\"#5b3400\",\"#ffbff2\",\"#ff6e75\",\"#798cff\",\"#dd00ff\",\"#505646\",\"#004489\",\"#ffbf60\",\"#ff018c\",\"#bdc8cf\",\"#af97b5\",\"#b65600\",\"#017000\",\"#cd87ff\",\"#1cd646\",\"#bfebc3\",\"#7997b5\",\"#a56089\",\"#6e8956\",\"#bc7c75\",\"#8a2844\",\"#00acff\",\"#8ed4ff\",\"#4b6d77\",\"#00d4b1\",\"#9300f2\",\"#8a9500\",\"#5d5b9e\",\"#fddfba\",\"#00939e\",\"#ffdb00\",\"#00aa79\",\"#520067\",\"#000091\",\"#0a5d3d\",\"#a5e275\",\"#623b41\",\"#c6c689\",\"#ff9eb5\",\"#cd4f6b\",\"#ff07d6\",\"#8a3a05\",\"#7e3d70\",\"#ff4901\",\"#602ba5\",\"#1c00ff\",\"#e6dfff\",\"#aa3baf\",\"#d89c00\",\"#a3a39e\"]},\"id\":\"1511\",\"type\":\"CategoricalColorMapper\"},{\"attributes\":{\"dimension\":\"lon\"},\"id\":\"1481\",\"type\":\"MercatorTickFormatter\"},{\"attributes\":{\"fill_alpha\":{\"value\":0.6},\"fill_color\":{\"field\":\"color\",\"transform\":{\"id\":\"1511\"}},\"hatch_alpha\":{\"value\":0.6},\"hatch_color\":{\"field\":\"color\",\"transform\":{\"id\":\"1511\"}},\"line_alpha\":{\"value\":0.6},\"line_color\":{\"field\":\"color\",\"transform\":{\"id\":\"1511\"}},\"size\":{\"field\":\"size\"},\"tags\":[\"apply_ranges\"],\"x\":{\"field\":\"Lng\"},\"y\":{\"field\":\"Lat\"}},\"id\":\"1518\",\"type\":\"Scatter\"},{\"attributes\":{\"active_drag\":{\"id\":\"1468\"},\"tools\":[{\"id\":\"1449\"},{\"id\":\"1467\"},{\"id\":\"1468\"},{\"id\":\"1469\"},{\"id\":\"1470\"},{\"id\":\"1471\"}]},\"id\":\"1473\",\"type\":\"Toolbar\"},{\"attributes\":{},\"id\":\"1455\",\"type\":\"LinearScale\"},{\"attributes\":{\"end\":15693717.914658168,\"min_interval\":5,\"reset_end\":15693717.914658168,\"reset_start\":-8530074.875462698,\"start\":-8530074.875462698,\"tags\":[[[\"Lat\",\"Lat\",null]]]},\"id\":\"1446\",\"type\":\"Range1d\"},{\"attributes\":{\"dimension\":\"lon\"},\"id\":\"1480\",\"type\":\"MercatorTicker\"},{\"attributes\":{\"below\":[{\"id\":\"1459\"}],\"center\":[{\"id\":\"1462\"},{\"id\":\"1466\"}],\"frame_height\":300,\"frame_width\":585,\"height\":null,\"left\":[{\"id\":\"1463\"}],\"margin\":[5,5,5,5],\"match_aspect\":true,\"min_border_bottom\":10,\"min_border_left\":10,\"min_border_right\":10,\"min_border_top\":10,\"output_backend\":\"webgl\",\"renderers\":[{\"id\":\"1509\"},{\"id\":\"1520\"}],\"right\":[{\"id\":\"1528\"}],\"sizing_mode\":\"fixed\",\"title\":{\"id\":\"1451\"},\"toolbar\":{\"id\":\"1473\"},\"width\":null,\"x_range\":{\"id\":\"1445\"},\"x_scale\":{\"id\":\"1455\"},\"y_range\":{\"id\":\"1446\"},\"y_scale\":{\"id\":\"1457\"}},\"id\":\"1450\",\"subtype\":\"Figure\",\"type\":\"Plot\"},{\"attributes\":{\"dimension\":\"lat\"},\"id\":\"1482\",\"type\":\"MercatorTicker\"},{\"attributes\":{\"callback\":null,\"formatters\":{\"$x\":{\"id\":\"1530\"},\"$y\":{\"id\":\"1531\"}},\"renderers\":[{\"id\":\"1520\"}],\"tags\":[\"hv_created\"],\"tooltips\":[[\"Lng\",\"$x{custom}\"],[\"Lat\",\"$y{custom}\"],[\"City\",\"@{City}\"],[\"Humidity\",\"@{Humidity}\"]]},\"id\":\"1449\",\"type\":\"HoverTool\"},{\"attributes\":{},\"id\":\"1457\",\"type\":\"LinearScale\"},{\"attributes\":{\"end\":23698539.094618812,\"min_interval\":5,\"reset_end\":23698539.094618812,\"reset_start\":-23595724.412922144,\"start\":-23595724.412922144,\"tags\":[[[\"Lng\",\"Lng\",null]]]},\"id\":\"1445\",\"type\":\"Range1d\"},{\"attributes\":{\"attribution\":\"&copy; <a href=\\\"https://www.openstreetmap.org/copyright\\\">OpenStreetMap</a> contributors\",\"url\":\"https://c.tile.openstreetmap.org/{Z}/{X}/{Y}.png\"},\"id\":\"1506\",\"type\":\"WMTSTileSource\"},{\"attributes\":{\"coordinates\":null,\"group\":null,\"text_color\":\"black\",\"text_font_size\":\"12pt\"},\"id\":\"1451\",\"type\":\"Title\"},{\"attributes\":{\"coordinates\":null,\"group\":null,\"level\":\"glyph\",\"tile_source\":{\"id\":\"1506\"}},\"id\":\"1509\",\"type\":\"TileRenderer\"},{\"attributes\":{\"zoom_on_axis\":false},\"id\":\"1469\",\"type\":\"WheelZoomTool\"},{\"attributes\":{\"axis_label\":\"x\",\"coordinates\":null,\"formatter\":{\"id\":\"1481\"},\"group\":null,\"major_label_policy\":{\"id\":\"1486\"},\"ticker\":{\"id\":\"1480\"}},\"id\":\"1459\",\"type\":\"LinearAxis\"},{\"attributes\":{\"axis\":{\"id\":\"1459\"},\"coordinates\":null,\"grid_line_color\":null,\"group\":null,\"ticker\":null},\"id\":\"1462\",\"type\":\"Grid\"},{\"attributes\":{\"children\":[{\"id\":\"1450\"}],\"margin\":[0,0,0,0],\"name\":\"Row02153\",\"sizing_mode\":\"fixed\",\"tags\":[\"embedded\"]},\"id\":\"1440\",\"type\":\"Row\"},{\"attributes\":{\"data\":{\"City\":[\"talnakh\",\"navoiy\",\"chonchi\",\"yellowknife\",\"port-aux-francais\",\"utrik\",\"longyearbyen\",\"spanish springs\",\"fale old settlement\",\"keflavik\",\"avarua\",\"college\",\"puerto natales\",\"nuuk\",\"qui nhon\",\"grytviken\",\"deniliquin\",\"albany\",\"kirakira\",\"hermanus\",\"hohhot\",\"ancud\",\"mana\",\"lihue\",\"touros\",\"west island\",\"novoishimskiy\",\"port elizabeth\",\"carhuaz\",\"holualoa\",\"kingston\",\"papatowai\",\"son servera\",\"aasiaat\",\"enewetak\",\"tamanrasset\",\"al kharijah\",\"penafiel\",\"bubaque\",\"lorengau\",\"nar'yan-mar\",\"bredasdorp\",\"az zulfi\",\"bethel\",\"chos malal\",\"huetamo de nunez\",\"kapa'a\",\"edinburgh of the seven seas\",\"nueva gerona\",\"port lincoln\",\"tura\",\"howrah\",\"margaret river\",\"port macquarie\",\"whitehorse\",\"isafjordur\",\"hadibu\",\"adamstown\",\"lompoc\",\"meadow lake\",\"klyuchi\",\"tiksi\",\"sanya\",\"blackmans bay\",\"susuman\",\"timimoun\",\"murzuq\",\"stornoway\",\"hastings\",\"belmonte\",\"waitangi\",\"bilibino\",\"haiku-pauwela\",\"pazarcik\",\"saint-philippe\",\"port mathurin\",\"monte carmelo\",\"yenisarbademli\",\"makokou\",\"oranjemund\",\"rabigh\",\"petropavlovsk-kamchatsky\",\"thompson\",\"ban houakhoua\",\"aksu\",\"iqaluit\",\"invercargill\",\"lerwick\",\"ushuaia\",\"san ignacio de velasco\",\"ust-nera\",\"rio gallegos\",\"minas de marcona\",\"zarah sharan\",\"salalah\",\"qaqortoq\",\"sitka\",\"alipur\",\"santa cruz de tenerife\",\"stanley\",\"guerrero negro\",\"newman\",\"gereida\",\"naracoorte\",\"st. john's\",\"luderitz\",\"svetlyy yar\",\"gandai\",\"kodiak\",\"ribeira grande\",\"south hedland\",\"rongelap\",\"usogorsk\",\"portland\",\"vung tau\",\"sosnovka\",\"barra\",\"georgetown\",\"saudarkrokur\",\"ibarreta\",\"tangalle\",\"labrador city\",\"wailua homesteads\",\"posto fiscal rolim de moura\",\"arraial do cabo\",\"pestovo\",\"nyaunglebin\",\"bargaal\",\"baihe\",\"new norfolk\",\"port alfred\",\"palikir - national government center\",\"nha trang\",\"cabo san lucas\",\"elliot lake\",\"inari\",\"kone\",\"itoman\",\"saynshand\",\"carnarvon\",\"broken hill\",\"atafu village\",\"sinabang\",\"ilulissat\",\"olonkinbyen\",\"puerto ayora\",\"mammoth lakes\",\"khanty-mansiysk\",\"bardai\",\"shwebo\",\"lagunas\",\"badger\",\"toliara\",\"vorgashor\",\"rikaze\",\"st ives\",\"chilon\",\"marsa alam\",\"malakal\",\"altai\",\"correia pinto\",\"hudiksvall\",\"obudu\",\"uturoa\",\"hawaiian paradise park\",\"baharly\",\"codrington\",\"suntar\",\"victorica\",\"karratha\",\"ismayilli\",\"colesberg\",\"kyaikkami\",\"la ronge\",\"yuzhno-kurilsk\",\"lazaro cardenas\",\"saipan\",\"california city\",\"taroa\",\"sturgis\",\"mossel bay\",\"saint-pierre\",\"inarajan village\",\"zyryanskoye\",\"petrolina\",\"hasaki\",\"solwezi\",\"carbonear\",\"kyshtovka\",\"alofi\",\"severo-yeniseyskiy\",\"san-pedro\",\"aguadas\",\"vrutok\",\"praia da vitoria\",\"pundong\",\"caleta de carquin\",\"zaozersk\",\"coquimbo\",\"sultanah\",\"collie\",\"aulnoye-aymeries\",\"doka\",\"norilsk\",\"tshela\",\"constantia\",\"saldanha\",\"ulsteinvik\",\"gadzhiyevo\",\"sayan\",\"nemuro\",\"howard springs\",\"brokopondo\",\"tazovsky\",\"alaghsas\",\"tazacorte\",\"naze\",\"alice springs\",\"mar del plata\",\"oum hadjer\",\"gannan\",\"san antonio de pale\",\"antalaha\",\"kimbe\",\"vadso\",\"qaryat suluq\",\"kiunga\",\"mersing\",\"colonia\",\"lebu\",\"okha\",\"camacupa\",\"ghat\",\"nikolayevsk-on-amure\",\"jamestown\",\"nuku'alofa\",\"enshi\",\"morehead city\",\"gandorhun\",\"atlantic\",\"concepcion\",\"salta\",\"les cayes\",\"loreto\",\"fuyu\",\"weno\",\"surskoye\",\"anadyr\",\"st. paul\",\"medvedovskaya\",\"ligaya\",\"linghai\",\"aldan\",\"heihe\",\"seven pagodas\",\"magadan\",\"inhambane\",\"vershino-darasunskiy\",\"santa marta\",\"villazon\",\"yadgir\",\"tsiombe\",\"fortaleza\",\"san matias\",\"tionk essil\",\"tofol\",\"usinsk\",\"jalgaon jamod\",\"dudinka\",\"tolanaro\",\"iskateley\",\"malango\",\"shahpur\",\"palangkaraya\",\"udachny\",\"kamina\",\"bembereke\",\"ciudad lazaro cardenas\",\"pechora\",\"dzilam gonzalez\",\"porto novo\",\"beau vallon\",\"nabire\",\"gewane\",\"kingscliff\",\"martapura\",\"kangding\",\"hithadhoo\",\"pyhajarvi\",\"yerofey pavlovich\",\"mogocha\",\"neya\",\"barcelos\",\"northam\",\"sabha\",\"afaahiti\",\"carutapera\",\"launceston\",\"erenhot\",\"potam\",\"witu\",\"grand-bourg\",\"santa ana de yacuma\",\"shalqar\",\"kargasok\",\"savanna-la-mar\",\"nema\",\"moranbah\",\"sao raimundo das mangabeiras\",\"golyshmanovo\",\"pacific grove\",\"paharpur\",\"xai-xai\",\"mandera\",\"sao francisco\",\"srednebelaya\",\"gaspe\",\"valley city\",\"benguela\",\"punta arenas\",\"kurlovo\",\"macusani\",\"hakui\",\"zinjibar\",\"nantucket\",\"hwange\",\"moyynkum\",\"masterton\",\"pizarro\",\"rabaul\",\"chamical\",\"piti village\",\"shiguai\",\"dauphin\",\"el alto\",\"lagoa\",\"deqen\",\"bengbu\",\"kralendijk\",\"nacala\",\"mirabad\",\"nowshahr\",\"yichang\",\"kyzyl-suu\",\"lumphat\",\"hamilton\",\"vilyuchinsk\",\"motueka\",\"tokar\",\"bomdila\",\"khandyga\",\"port hedland\",\"santo domingo\",\"nouadhibou\",\"belo sur tsiribihina\",\"puerto armuelles\",\"grosse pointe farms\",\"menongue\",\"calama\",\"santa elena de uairen\",\"sinop\",\"gao\",\"dryden\",\"novodvinsk\",\"parabel'\",\"taoudenni\",\"barano d'ischia\",\"flekkefjord\",\"sao vicente\",\"nadym\",\"mount gambier\",\"ballina\",\"wuwei\",\"borsad\",\"yuncheng\",\"caspe\",\"egilsstadir\",\"colares\",\"conde\",\"cole harbour\",\"antigonish\",\"vilyuysk\",\"toro\",\"nanao\",\"fallon\",\"aykhal\",\"coihueco\",\"mirnyy\",\"tara\",\"pandan\",\"prince rupert\",\"opuwo\",\"tralee\",\"port saint john's\",\"namibe\",\"east london\",\"kyzyl-mazhalyk\",\"situbondo\",\"forio\",\"kailua-kona\",\"puerto baquerizo moreno\",\"sidi khaled\",\"ta`u\",\"sale\",\"douz\",\"duluth\",\"prairie du chien\",\"laghouat\",\"lata\",\"andrelandia\",\"pedersore\",\"springbok\",\"almodovar\",\"xining\",\"chulym\",\"fort-shevchenko\",\"mount pearl\",\"puerto deseado\",\"coyhaique\",\"solvang\",\"laguna\",\"dedza\",\"san andres\",\"villa gesell\",\"tarawa\",\"borova\",\"skeldon\",\"lamar\",\"barranca\",\"kayangel\",\"peace river\",\"sandnessjoen\",\"sos'va\",\"huarmey\",\"atkarsk\",\"kijang\",\"siocon\",\"contamana\",\"klaksvik\",\"zheshart\",\"dwarka\",\"lai chau\",\"arizona city\",\"balboa\",\"derebucak\",\"kill devil hills\",\"leua\",\"kuanda\",\"hammerfest\",\"griffith\",\"ulladulla\",\"tabas\",\"acajutla\",\"remire-montjoly\",\"muromtsevo\",\"oyama\",\"poso\",\"cartagena\",\"kretinga\",\"betafo\",\"chui\",\"ar ruseris\",\"bogale\",\"dongargarh\",\"monki\",\"kasongo-lunda\",\"antsiranana\",\"tulun\",\"kirzhach\",\"sao joao da barra\",\"siwa oasis\",\"buckhannon\",\"kourou\",\"barra do corda\",\"zhaotong\",\"queenstown\",\"gizo\",\"saguenay\",\"kurumkan\",\"la'ie\",\"cadale\",\"cutral-co\",\"bukoba\",\"xaltianguis\",\"belding\",\"turinsk\",\"emkhomazi\",\"changli\",\"santona\",\"ulaangom\",\"mount isa\",\"fuglafjordur\",\"pangkalanbuun\",\"portoferraio\",\"bonthe\",\"borisovka\",\"berezovyy\",\"margate\",\"yigo village\",\"bocsa\",\"vertientes\",\"hyesan\",\"patterson\",\"jaggayyapeta\",\"dzhankoy\",\"san luis de la loma\",\"buka\",\"matonga\",\"cabedelo\",\"pangody\",\"irtyshsk\",\"davlekanovo\",\"yulinshi\",\"ilorin\",\"saint-joseph\",\"veinticinco de mayo\",\"narimanov\",\"sabang\",\"katsuura\",\"doaba\",\"buenavista del norte\",\"richards bay\",\"kamaishi\",\"paramonga\",\"kapuskasing\",\"grand-bassam\",\"morag\",\"likiep\",\"konstantinovka\",\"gold camp\",\"puerto aysen\",\"bodaybo\",\"khowy\",\"katiola\",\"bucak\",\"chernyshevskiy\",\"san sebastian de la gomera\",\"idri\",\"ola\",\"strezhevoy\",\"kununurra\",\"irkutsk\",\"el calafate\",\"reinosa\",\"andapa\",\"mirny\",\"maragogi\",\"pangai\",\"polyarnyy\",\"san blas\",\"amga\",\"riverside\",\"ormara\",\"seydi\",\"kerikeri\",\"cassilandia\",\"murghob\",\"san rafael\",\"sakchu-up\",\"jean-rabel\",\"kurchatov\",\"tirumullaivasal\",\"kitimat\",\"bayanhongor\",\"juneau\",\"kristiansund\",\"kuraymah\",\"karaton\",\"khenchela\",\"auki\",\"masuguru\",\"vernon\",\"nguru\",\"mahdia\",\"ongjin\",\"vilhena\",\"san patricio\",\"crane\",\"jbail\",\"zalingei\",\"onguday\",\"geraldton\",\"umluj\",\"kiama\",\"duyun\",\"vuktyl\",\"devils lake\",\"labytnangi\",\"revda\",\"stillwater\",\"rimouski\"],\"Humidity\":[66,18,93,30,77,82,74,11,73,76,73,64,91,93,84,98,91,61,89,86,77,81,81,72,79,83,87,77,40,81,73,89,74,89,76,9,17,75,82,79,71,92,9,62,46,48,77,67,58,56,98,94,68,91,61,82,80,67,76,14,35,73,89,86,87,6,7,79,50,74,57,71,66,38,82,77,31,31,90,78,29,82,46,98,31,77,68,82,69,35,76,93,70,57,89,81,82,75,85,89,44,10,69,76,51,70,37,82,88,83,59,82,79,38,90,94,42,89,83,61,91,77,77,29,83,98,94,60,86,94,87,74,84,65,87,91,59,96,42,59,59,74,84,41,90,90,22,100,64,71,51,62,57,92,81,95,43,47,98,30,89,94,88,85,84,51,81,75,38,75,80,61,83,88,95,57,100,10,78,83,80,88,96,87,35,87,45,59,67,73,97,94,87,79,83,94,74,95,82,9,88,67,86,69,87,82,90,92,97,50,98,34,76,88,35,89,85,67,83,57,96,90,87,83,93,21,98,92,68,79,98,31,10,94,51,64,98,77,98,50,71,52,64,36,88,76,86,87,54,52,87,92,82,82,70,96,64,96,74,7,96,57,78,24,84,75,93,90,76,63,73,98,93,99,72,34,82,57,77,55,90,94,91,40,77,100,95,78,93,94,97,97,91,98,9,86,82,92,60,42,81,78,43,35,96,63,95,82,29,71,82,49,74,46,32,89,68,46,87,71,90,33,87,67,80,52,23,78,76,84,30,94,59,16,73,87,93,97,79,81,15,88,92,51,100,66,75,85,32,96,54,59,97,73,93,70,83,31,11,83,42,28,46,88,95,11,77,96,57,80,77,68,49,82,76,32,85,80,78,88,70,66,71,87,16,89,82,87,79,82,72,36,97,48,84,67,58,76,77,80,74,12,74,78,58,73,45,12,91,63,83,93,61,95,76,74,52,67,81,35,33,67,74,81,74,98,78,48,73,89,52,72,92,71,62,85,90,36,73,76,84,80,17,64,33,67,82,80,82,70,72,19,54,89,76,64,87,74,72,91,84,83,93,86,67,41,72,94,98,80,19,57,74,31,98,70,82,57,92,67,84,10,60,43,95,95,65,94,89,55,82,74,98,60,92,53,94,91,94,76,62,97,10,95,55,58,17,38,83,64,60,79,63,82,82,59,43,79,88,69,70,72,83,75,70,92,81,80,89,21,81,88,49,89,31,86,78,9,96,96,87,100,75,97,98,87,79,67,97,61,74,18,87,13,93,30,49,39,97,67,80,77,63,60,100,88,33,93,50,88,55,38,39,60,96,30,40,20,57,76,85,87,44,88,98,83,29,89,94,41,59],\"Lat\":{\"__ndarray__\":\"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\",\"dtype\":\"float64\",\"order\":\"little\",\"shape\":[591]},\"Lng\":{\"__ndarray__\":\"L2NUadnEYkG5fijQZsNbQYG61KPUV1/BfB9FwqdHaMH0/YHSSdFdQeL6SeELCHJB9PTL9/eQOkEbb/3ZuGppwVM0NykULnLBk4CFcIkpQ8GikEN6TfZwwbra4Y3aYW/BCiuw5SXIXsFnazOLrfZVwXtqrWpmMWdBdovRxtwBT8EqPTtnssduQesPE+7laF/BvG6+uZwwcUGH5HFf+1VAQTMumUHhtGdBsH0yjQlZX8GCIRO3FtZWwaqz2Tg463DBftV8GesdTsEf8bbszo5kQcfZ8uaHWlxBnep5QXm3RUFC/+8OZXxgwaCa33dojnDBjIJXDiJOYMHotJCyz/1xQUc463ty1BZBD6MploJzVsEbASqZ8DtxQeMVSJEWwyJBQ9PG2GzxSUGAV6trgCMswcd4weT65DrBla3CX/VEb0HBDbJzHItWQflf5P4tBUFBGht+4OYHU0EW2DZG3ixfwbe0jjMu113BFMm8sohrZcE+VELf6OlwwaA/+AqZ6TTBw0zOupyUYcGxLIN7ENlsQUYU7PLuJ2NBrfIWNCDAYkHkvXDOeW5oQRA42BLpO3BBQr/cB+GsbMHeb9rzo6NDwfHDR9z78VZBPfdnF7Kfa8GOgOEChJNpwWi4k2kzn2bBCsZqlx/PYEF1JpR/uVxrQU+w2xorQGdB/WXwgG5Hb0GrsBYzonVvQQJRFVqzHNlAl0NeM02kN0HubBzbO7Ilwaz39/XdI+9AeJHIX/eCUMFAuGB+eL5ywXYgpoVdq3FBcgs/wv+XcMEjFUk9tq1PQWNRwo6NrldBDFMdsA7uWkFqAcn9lytUwb8/bQgPqEpBx8eGMeTZNUEJpoqW4uk7QeARPEyAk1BBfByKf67XcEH/KXg6+cZkwc9FqME8VGVBZuRgBMoKYUEZCyDQPRhdwWWYZsRZ33FBsO2m9uk8/8C70idO7ABdwSC4r73m4VnB93Cc4qpnbkF8yVLpumRdwWpsWxZG5V/BFYvyQGA2XUG1Tx+baPhWQWaC/uBMjFPBf7oMVuS7bMFgdgPN1BxeQe1JiMstnDvBrY6rPaEUB8FcQkjy0DdowfbImrocsmnBdyhE7ENaRUFK+4N83OFtQcyR6BsNYlbBHbZQsPC/OUF7bYCHKQRTQWa3gVY1OGFBcwxbPhAucMHXz2Cx+l9IwVCnrctvLmlBmIinY8i3cUE1RfqTzqxUQWf9uYMXDGrBoT3vN5e8ZkFfROfBIMdVQVl33AT0UVLBA4hetMBNZUFMSPUABK5AwZBpVm8+a1nBCqeaA2snYUGBIHu+92lcwYvA21yD63DBBpiXVQpxWsFR7eNS3NhRwWxr9XcwaE5BRy9ctvWJZEHn7bvBorBVQUhCRIuwxGZB6ho5c2g5b0G6YKU2qtZGQRpJ2NFwynBBrfx9q64uZ0EltcsMUFZnwcRfq1OKi2HB4zdaIKD0RkEAznuOqIBxQSPbIZN/G2tBHJI1TmVhZ0FNKfsikCBoQcek/V2jB25Bs5RE4pFQcsHShfL0wnZkQQa5sH4as1XBNkkffYKeLcFAwMiLFy9jwYs/5jLBQmnBvg3LFzpNXUG5iqaLrpIoQWf2mmjLUWRBZ3WS+1gRYMH2+Jd6NFNvwT95wLMGi1JBszDrWwgoW0Hs10V2Rd9iQT0xVWljpCLBT3CDf1SfY8GgjFW0NKJNQYZRf16n40pBIpwZHiRwZEESnn8Ax2JVwVV58ApcDT1B+xz7rmMoL0HetoVdmBNwweErQmnMc3DBBpbqHWpjWEHhgB2YoSRuQdN/sGbo+WhBRI1TxJDJW8GjGr/TNM9oQSHsM2zoc1RBL3kdw6dQRUFpCGCNTbdkQWHfCvG+WmbBEBTiYwP4bkEGubB+GrNlwfYnGSSc725Be5PhSSYNacE5w8HhjS1yQYiPIrv6ImLBBsK3uADPQkH1P+Z1DI9XQYPoy8XUu25BCQdCfpBkYkEysLEb3DJRwR5/xGcG521B5OYASZtpRkE1GhMcAZlWwahKGDgVRWBBomeQ8vsJcsFk9VPPQMFjQX8U0RJ7iybBi7ZbOHAFYMFcC/eQ4LJBQbVVd6Hd/EbBW6nGvgVuZ0GmKemWantgwdOCnCfJjktBpINLTstLXsH+Vd79YM9QQZJkYdtbqWhB+18Q72IUGkHc3WlqbWBOQR+m0fRGumJBWXPKXvD3NUGeGKO0G1VIQYbP6TTjej5BRSmSnITeI0EXv4xn/E9MQScpKNvbY2DBsVDp28LobkEhaOupFtNrQXXH+TwybVfBxSCdfcG1YEEmcQUwFDwrQQD/2ItodD7BbiG24Bd+a0E+4AOZQW1sQQFq2OUZcVjB5e69vXO6QEFrLYLGCTlqQWNLVBB+IiNBaQJ6mtRZVUFFQZPlDOFvQRylYBH9Q0lB8LbQujozQUF7BKu04f9tQWfTrfJFDGZB5e0J7EycJ0H3nM0fhkZfweLnyon1WW5BPrWqDXiyPUG4KXvqjkcxQWkND/5o4W1BG5n2J9rSYMEGepdshJlywYGPmib9PmdBPPQEaHVKYMGy9S7unBk0wQLttJ8BtV/BjJx3okYFX8He87JI78ZbwS9UixxlUV/BB13mI2ymZcHUYZFvcIBqQTD+RUfVHnBBV+1BnRrXU0EG80hpktdyQRWPElgbxGPBt2HDC4OSUEHNxduoIKtpQUrJyOfpxGlBPX8VhZGfakFA7aQEwhFrQUpUWg/HBWFBp9FiM2ICcEEbkyN4EQ1OQSGaG4fvhmhBKINuuTSCX8HY+1k8xtpbwcsLvPWYYGBBsRLrcoJQU0GOaSp/CVxQwQf4yZCwzFjBJWMlO1MQPMGWS6mUKU5xQfNrF7PnbVhBKhj1TQtAYEFNtAmaNkxiQd5HhtY/9VNBoyM4IReSVkEzfX9CMnVpQfV4n3pKUGBBheC4H28raEE1OXzYht1nQfxZ7W56OUVBxdK9U6EYEkEGubB+GrNlweavacTjTFhBukV1Nf3hYsGzeHW0nbARQZbVstoUgFhBAprxfjnEbEG2TliGkUJRQcyBjG2TTXBBpD2QcLJiaEFkC6sVE6ZlQTObdO/qCF9BStmxr6wdR0Hz7gHehuVpQYsP2wHybWlBZ9t1o+ugUkG0sBsXaUQtwS8UWpZjphzBQqZOAgeCOEEg/BOeU7JvwRj3173ailPBkhxiQ0c/b0GM1TCnhMZnQf1H8Jfob2fBI0NJ9Q0sUUH3EhoUjwlawe9aw2hIyVvBqo6uaSRPWUE4TpfKAithQZ2yN4HylmDBx9EiL/9xVUGriAUEG29vQZFKIjlFUFPBBlTtUdYIXUHfk5m6zeJpwYOFattwI15BmaInm/OSTEHzJr9HYcdRQTNtaoo6DVPBh0vcWQsua0GiGn8R22FbwT9aPkr8zmTBx24Pb0XFNkF9ALK7Yh1ewU83NIcvMVFB5SPRxdXoXcHtwMLp4gptQSQpnRpbRVNB7m9FKYzEXcEiw6sBEYJGQVcj1PAW+l5B+qlDd/OlckEj2DD3Pm1gwfiG9YqsJ3BBhQeZLQYpXMGmNUUP1rhuQbi9rhqZamdB+CErKkA+ZcGF0pBhcT5hwaqmdVonxEfBvFHiUwpDY0GmydcPLOtoQS2JDpJN/VzBTBSm2I5FUUGZRlIEeEJaQdtv3R8n3lVBVfpihOegZ0HvBnn1ApBgQZNbjycCt2ZB54YnfdPyYcGsZJRwAtFwQdRuFS8uXnJBgWVcRIkFUEFJp2AebJ5jQaI+c16RymxBOcRoFbgsaUGgqg3UfbhdwSyiOyFm7zzBKlgm1AzrUkGYgyDbPJhhwQ0VKoObmWHBxmCTHMkMPkGcZ7P2xEVdwYKU5fTT9VnBN7JuaqmdTUGvbioNsD4GQb5vV4V2sWPBsiieVLZUUUGb8hLN/0xhQenlSUvxEBvBMh+9sbypN0F6iPN2s6AmQRLv1atIs1PB/3ONh1LLXkGPNaurZ+NtQcyBjG2TTXBBkd87jBjLZUHSvj64/fReQdV6Sb8JkWdBJ+3esB4tscCgq1rOdXM4wYSs+hjoCzDBtJ37j56lTcH05NfzZ/RawTXIPSXlU1rBXxSA9e/SaUGnbZ7WaydgwWaclunaFG1B76fx9Ss4acG5gCZnm6xnQfYoMZgHgV7BwGbpc2EyaEFA52J255RfQc3UKUxBXWpBuhOC5ZOra8H3AqnANYI3QWR6yn0YezDBPTG5C6gXSUEO9Uy3SKQ0QTZss4yQtEdBTza1O5U8Y0H4xzQcBzVoQV0RSTbojDdBcLsgbJaPcME3ogBMOgZjwRzi6/nk8SBB/sIKC//+ccFIE8PhSCgnwQe91WfOpC5BpUDxeXmOY8HpXS3//1ljwbfvbOR1dxNBj4uE189OLMHUmDZl39BSwWzJ57PSQ0NBUG9zEsxhPkFAgBEg9X4rwc+lKCeNm2VB0yn2SHIwYUFRHzXkHFhVQa0+H9zgaVbBTLfLEFj7W8G/dv4rWZpewQ202XIcgmnBqgXCcgTIacFm1q8rwShNQbVsEKbaWGHBIXJVVo8xWMFE5LmsSl1yQWJFYKxNkUlBvfNAd/xCWMGXGcS1d0tkwYDDOq4Gg2DB1d6Vp5aabEF+f4I5G+dowTvPp0e/dDVBEK0mCl9EWkH5zHfj+pdgwaenLFjRHFNB7iylMXNva0GinezssO5pQXpYFDYZ21/Br57qP1hiJsGQC9SgIg1VQcfvIhiFSV1B1DMa0iP3ZUEDbmfb5rVnwe34adsiZWDBifm1DMLCSkFV8iC5YhFgwabvquUkmz9BSycOKZalaEGTnA2o+xxEQSBtjTjvj2LBsWucjabyb0E8ijDORixYQTo85fGXEmPBGgZ8m+8xVsFFDzG3kfNfQT5GAxrcrm1BORnD9YWjaUHyJMcRmghgwf/UEh5eDEJBNs4xiRXlU0GeErKF1bNWwWm6VhluNE1BkmN+7XxBZEG87RK7RiRhQdCAQE+9XENBijsXe5qQPEFT+2+8he5UQfI1gioBW2VBuh4uUDeBUEGOrxrjrm5Rwcn0Zd94rEVBGpdULAcJYcHLiGSSXVtWwbRaVr0lN1PBMmBiR4sFZkGlT/9aQNNGQS67FoeWpnBBzwlcYpUtXsFnNbR6YWtnQSiFqz8IxHDB3+TZ7bSrU0HEPmjgumNdwe591/OiBEtBK8fYA3YyZcELwPa3ohhiwZrARpJrDFtByk7vtBUoSkGCsNQDdUxpQUwv4RUJfhfBrm83RU6MY0Fqs+aejZ5tQaGAQQUGJifBWyWoRvOyZ0E9cA0FOIUxQdyXfDuyPTXB6K5L7wqRTkE/GtLcANBsQQmgBqA41gJB6lyPpXPDbkGSsnWLCHBCQf4Kki6ql2DBVgCq7SE3a0EZIsQQCLhpwU0jzWbaAWFB1GbcPUc3TUFKCE8yHGxlwf1PmTqcYl1BaffezGvyTEFP8lIBnpVNwZvSZB1loV9BTPuUIn4FYEGldSOQzV5XQebtVOpzTWdBmgeBux7qHkHyf0+uHZ5XQX7JtpRmjVnBTEG318VRVEHy4LU2Nz1kQUqQ3ZEJym1Bo8DTAckJXkFMBCzv3aM8we6/nzmqNUtBBIGoFhkgbkEPDVRqpYZgwYyo7VargGHBwY+rPyVnGcHjxzYWVOxAQcnBjs51+XFBR0MneY8sa0FZpPg/+KFnwWFQw74/317Bt5BBgAA/aEGeInQ4wxZTQXIBXM5iUyHBC6MQ6f37SUH+/0FfaOFnQTS3f9eTET3BaJrbSeqINkEokr6+hA9wQXfP2ppceWBBW7LurFNVa0HpXnfEDSVmQZ9jniQ+sV7BOhcsNoAdHMFZ2PEteRVVQcBm6XNhMmhBYgbaYRvqTcGvVISTaoJywWo9NghAaExBJawgbstZZsGnCPEhwgRsQSrzyX73o2jBaB6CTZNyW0FqIhFDYLdaQeGQ4n95d3JB3Pw8Mwz4VcGtVEzY82hfQafKBfwxBF3BuicF3/CMakG5CI6xsxRfwXUmEc+CR05BQDW9SVvzYEElI0Lf+1BrwT9+C4LdQWVBn4rPkWmKbMEqYgqbZEQqQafmEOTaDEtBNeMlXVWHZkHxyYMJaUQoQQMKgsqID3FBPWbY3ktQUEEbBFfv5VJpwffyBRw6wTFB5fOWeE7KMkFznO7bEp5qQTgjFPV5ilnB9QrbdI20ZMG373cgQ7tlwV3afCukRk5BgSfubcLvQ0GvCTjEs0piQZ4Yo7QbVWhBSBKoOPOmT0EQ7YtDMgRwQVz5dgkY1GZBb1hxTiFWWEG58NqS1f1kwXF0dtVcNFxBV2GpngxzWUFJZkl1oZtkwXglYDJGGV3B\",\"dtype\":\"float64\",\"order\":\"little\",\"shape\":[591]},\"color\":[\"talnakh\",\"navoiy\",\"chonchi\",\"yellowknife\",\"port-aux-francais\",\"utrik\",\"longyearbyen\",\"spanish springs\",\"fale old settlement\",\"keflavik\",\"avarua\",\"college\",\"puerto natales\",\"nuuk\",\"qui nhon\",\"grytviken\",\"deniliquin\",\"albany\",\"kirakira\",\"hermanus\",\"hohhot\",\"ancud\",\"mana\",\"lihue\",\"touros\",\"west island\",\"novoishimskiy\",\"port elizabeth\",\"carhuaz\",\"holualoa\",\"kingston\",\"papatowai\",\"son servera\",\"aasiaat\",\"enewetak\",\"tamanrasset\",\"al kharijah\",\"penafiel\",\"bubaque\",\"lorengau\",\"nar'yan-mar\",\"bredasdorp\",\"az zulfi\",\"bethel\",\"chos malal\",\"huetamo de nunez\",\"kapa'a\",\"edinburgh of the seven seas\",\"nueva gerona\",\"port lincoln\",\"tura\",\"howrah\",\"margaret river\",\"port macquarie\",\"whitehorse\",\"isafjordur\",\"hadibu\",\"adamstown\",\"lompoc\",\"meadow lake\",\"klyuchi\",\"tiksi\",\"sanya\",\"blackmans bay\",\"susuman\",\"timimoun\",\"murzuq\",\"stornoway\",\"hastings\",\"belmonte\",\"waitangi\",\"bilibino\",\"haiku-pauwela\",\"pazarcik\",\"saint-philippe\",\"port mathurin\",\"monte carmelo\",\"yenisarbademli\",\"makokou\",\"oranjemund\",\"rabigh\",\"petropavlovsk-kamchatsky\",\"thompson\",\"ban houakhoua\",\"aksu\",\"iqaluit\",\"invercargill\",\"lerwick\",\"ushuaia\",\"san ignacio de velasco\",\"ust-nera\",\"rio gallegos\",\"minas de marcona\",\"zarah sharan\",\"salalah\",\"qaqortoq\",\"sitka\",\"alipur\",\"santa cruz de tenerife\",\"stanley\",\"guerrero negro\",\"newman\",\"gereida\",\"naracoorte\",\"st. john's\",\"luderitz\",\"svetlyy yar\",\"gandai\",\"kodiak\",\"ribeira grande\",\"south hedland\",\"rongelap\",\"usogorsk\",\"portland\",\"vung tau\",\"sosnovka\",\"barra\",\"georgetown\",\"saudarkrokur\",\"ibarreta\",\"tangalle\",\"labrador city\",\"wailua homesteads\",\"posto fiscal rolim de moura\",\"arraial do cabo\",\"pestovo\",\"nyaunglebin\",\"bargaal\",\"baihe\",\"new norfolk\",\"port alfred\",\"palikir - national government center\",\"nha trang\",\"cabo san lucas\",\"elliot lake\",\"inari\",\"kone\",\"itoman\",\"saynshand\",\"carnarvon\",\"broken hill\",\"atafu village\",\"sinabang\",\"ilulissat\",\"olonkinbyen\",\"puerto ayora\",\"mammoth lakes\",\"khanty-mansiysk\",\"bardai\",\"shwebo\",\"lagunas\",\"badger\",\"toliara\",\"vorgashor\",\"rikaze\",\"st ives\",\"chilon\",\"marsa alam\",\"malakal\",\"altai\",\"correia pinto\",\"hudiksvall\",\"obudu\",\"uturoa\",\"hawaiian paradise park\",\"baharly\",\"codrington\",\"suntar\",\"victorica\",\"karratha\",\"ismayilli\",\"colesberg\",\"kyaikkami\",\"la ronge\",\"yuzhno-kurilsk\",\"lazaro cardenas\",\"saipan\",\"california city\",\"taroa\",\"sturgis\",\"mossel bay\",\"saint-pierre\",\"inarajan village\",\"zyryanskoye\",\"petrolina\",\"hasaki\",\"solwezi\",\"carbonear\",\"kyshtovka\",\"alofi\",\"severo-yeniseyskiy\",\"san-pedro\",\"aguadas\",\"vrutok\",\"praia da vitoria\",\"pundong\",\"caleta de carquin\",\"zaozersk\",\"coquimbo\",\"sultanah\",\"collie\",\"aulnoye-aymeries\",\"doka\",\"norilsk\",\"tshela\",\"constantia\",\"saldanha\",\"ulsteinvik\",\"gadzhiyevo\",\"sayan\",\"nemuro\",\"howard springs\",\"brokopondo\",\"tazovsky\",\"alaghsas\",\"tazacorte\",\"naze\",\"alice springs\",\"mar del plata\",\"oum hadjer\",\"gannan\",\"san antonio de pale\",\"antalaha\",\"kimbe\",\"vadso\",\"qaryat suluq\",\"kiunga\",\"mersing\",\"colonia\",\"lebu\",\"okha\",\"camacupa\",\"ghat\",\"nikolayevsk-on-amure\",\"jamestown\",\"nuku'alofa\",\"enshi\",\"morehead city\",\"gandorhun\",\"atlantic\",\"concepcion\",\"salta\",\"les cayes\",\"loreto\",\"fuyu\",\"weno\",\"surskoye\",\"anadyr\",\"st. paul\",\"medvedovskaya\",\"ligaya\",\"linghai\",\"aldan\",\"heihe\",\"seven pagodas\",\"magadan\",\"inhambane\",\"vershino-darasunskiy\",\"santa marta\",\"villazon\",\"yadgir\",\"tsiombe\",\"fortaleza\",\"san matias\",\"tionk essil\",\"tofol\",\"usinsk\",\"jalgaon jamod\",\"dudinka\",\"tolanaro\",\"iskateley\",\"malango\",\"shahpur\",\"palangkaraya\",\"udachny\",\"kamina\",\"bembereke\",\"ciudad lazaro cardenas\",\"pechora\",\"dzilam gonzalez\",\"porto novo\",\"beau vallon\",\"nabire\",\"gewane\",\"kingscliff\",\"martapura\",\"kangding\",\"hithadhoo\",\"pyhajarvi\",\"yerofey pavlovich\",\"mogocha\",\"neya\",\"barcelos\",\"northam\",\"sabha\",\"afaahiti\",\"carutapera\",\"launceston\",\"erenhot\",\"potam\",\"witu\",\"grand-bourg\",\"santa ana de yacuma\",\"shalqar\",\"kargasok\",\"savanna-la-mar\",\"nema\",\"moranbah\",\"sao raimundo das mangabeiras\",\"golyshmanovo\",\"pacific grove\",\"paharpur\",\"xai-xai\",\"mandera\",\"sao francisco\",\"srednebelaya\",\"gaspe\",\"valley city\",\"benguela\",\"punta arenas\",\"kurlovo\",\"macusani\",\"hakui\",\"zinjibar\",\"nantucket\",\"hwange\",\"moyynkum\",\"masterton\",\"pizarro\",\"rabaul\",\"chamical\",\"piti village\",\"shiguai\",\"dauphin\",\"el alto\",\"lagoa\",\"deqen\",\"bengbu\",\"kralendijk\",\"nacala\",\"mirabad\",\"nowshahr\",\"yichang\",\"kyzyl-suu\",\"lumphat\",\"hamilton\",\"vilyuchinsk\",\"motueka\",\"tokar\",\"bomdila\",\"khandyga\",\"port hedland\",\"santo domingo\",\"nouadhibou\",\"belo sur tsiribihina\",\"puerto armuelles\",\"grosse pointe farms\",\"menongue\",\"calama\",\"santa elena de uairen\",\"sinop\",\"gao\",\"dryden\",\"novodvinsk\",\"parabel'\",\"taoudenni\",\"barano d'ischia\",\"flekkefjord\",\"sao vicente\",\"nadym\",\"mount gambier\",\"ballina\",\"wuwei\",\"borsad\",\"yuncheng\",\"caspe\",\"egilsstadir\",\"colares\",\"conde\",\"cole harbour\",\"antigonish\",\"vilyuysk\",\"toro\",\"nanao\",\"fallon\",\"aykhal\",\"coihueco\",\"mirnyy\",\"tara\",\"pandan\",\"prince rupert\",\"opuwo\",\"tralee\",\"port saint john's\",\"namibe\",\"east london\",\"kyzyl-mazhalyk\",\"situbondo\",\"forio\",\"kailua-kona\",\"puerto baquerizo moreno\",\"sidi khaled\",\"ta`u\",\"sale\",\"douz\",\"duluth\",\"prairie du chien\",\"laghouat\",\"lata\",\"andrelandia\",\"pedersore\",\"springbok\",\"almodovar\",\"xining\",\"chulym\",\"fort-shevchenko\",\"mount pearl\",\"puerto deseado\",\"coyhaique\",\"solvang\",\"laguna\",\"dedza\",\"san andres\",\"villa gesell\",\"tarawa\",\"borova\",\"skeldon\",\"lamar\",\"barranca\",\"kayangel\",\"peace river\",\"sandnessjoen\",\"sos'va\",\"huarmey\",\"atkarsk\",\"kijang\",\"siocon\",\"contamana\",\"klaksvik\",\"zheshart\",\"dwarka\",\"lai chau\",\"arizona city\",\"balboa\",\"derebucak\",\"kill devil hills\",\"leua\",\"kuanda\",\"hammerfest\",\"griffith\",\"ulladulla\",\"tabas\",\"acajutla\",\"remire-montjoly\",\"muromtsevo\",\"oyama\",\"poso\",\"cartagena\",\"kretinga\",\"betafo\",\"chui\",\"ar ruseris\",\"bogale\",\"dongargarh\",\"monki\",\"kasongo-lunda\",\"antsiranana\",\"tulun\",\"kirzhach\",\"sao joao da barra\",\"siwa oasis\",\"buckhannon\",\"kourou\",\"barra do corda\",\"zhaotong\",\"queenstown\",\"gizo\",\"saguenay\",\"kurumkan\",\"la'ie\",\"cadale\",\"cutral-co\",\"bukoba\",\"xaltianguis\",\"belding\",\"turinsk\",\"emkhomazi\",\"changli\",\"santona\",\"ulaangom\",\"mount isa\",\"fuglafjordur\",\"pangkalanbuun\",\"portoferraio\",\"bonthe\",\"borisovka\",\"berezovyy\",\"margate\",\"yigo village\",\"bocsa\",\"vertientes\",\"hyesan\",\"patterson\",\"jaggayyapeta\",\"dzhankoy\",\"san luis de la loma\",\"buka\",\"matonga\",\"cabedelo\",\"pangody\",\"irtyshsk\",\"davlekanovo\",\"yulinshi\",\"ilorin\",\"saint-joseph\",\"veinticinco de mayo\",\"narimanov\",\"sabang\",\"katsuura\",\"doaba\",\"buenavista del norte\",\"richards bay\",\"kamaishi\",\"paramonga\",\"kapuskasing\",\"grand-bassam\",\"morag\",\"likiep\",\"konstantinovka\",\"gold camp\",\"puerto aysen\",\"bodaybo\",\"khowy\",\"katiola\",\"bucak\",\"chernyshevskiy\",\"san sebastian de la gomera\",\"idri\",\"ola\",\"strezhevoy\",\"kununurra\",\"irkutsk\",\"el calafate\",\"reinosa\",\"andapa\",\"mirny\",\"maragogi\",\"pangai\",\"polyarnyy\",\"san blas\",\"amga\",\"riverside\",\"ormara\",\"seydi\",\"kerikeri\",\"cassilandia\",\"murghob\",\"san rafael\",\"sakchu-up\",\"jean-rabel\",\"kurchatov\",\"tirumullaivasal\",\"kitimat\",\"bayanhongor\",\"juneau\",\"kristiansund\",\"kuraymah\",\"karaton\",\"khenchela\",\"auki\",\"masuguru\",\"vernon\",\"nguru\",\"mahdia\",\"ongjin\",\"vilhena\",\"san patricio\",\"crane\",\"jbail\",\"zalingei\",\"onguday\",\"geraldton\",\"umluj\",\"kiama\",\"duyun\",\"vuktyl\",\"devils lake\",\"labytnangi\",\"revda\",\"stillwater\",\"rimouski\"],\"size\":{\"__ndarray__\":\"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\",\"dtype\":\"float64\",\"order\":\"little\",\"shape\":[591]}},\"selected\":{\"id\":\"1513\"},\"selection_policy\":{\"id\":\"1525\"}},\"id\":\"1512\",\"type\":\"ColumnDataSource\"},{\"attributes\":{},\"id\":\"1525\",\"type\":\"UnionRenderers\"},{\"attributes\":{},\"id\":\"1486\",\"type\":\"AllLabels\"},{\"attributes\":{\"source\":{\"id\":\"1512\"}},\"id\":\"1521\",\"type\":\"CDSView\"},{\"attributes\":{\"fill_alpha\":{\"value\":0.6},\"fill_color\":{\"field\":\"color\",\"transform\":{\"id\":\"1511\"}},\"hatch_alpha\":{\"value\":0.6},\"hatch_color\":{\"field\":\"color\",\"transform\":{\"id\":\"1511\"}},\"line_alpha\":{\"value\":0.6},\"line_color\":{\"field\":\"color\",\"transform\":{\"id\":\"1511\"}},\"size\":{\"field\":\"size\"},\"tags\":[\"apply_ranges\"],\"x\":{\"field\":\"Lng\"},\"y\":{\"field\":\"Lat\"}},\"id\":\"1517\",\"type\":\"Scatter\"},{\"attributes\":{},\"id\":\"1493\",\"type\":\"AllLabels\"},{\"attributes\":{\"label\":{\"field\":\"color\"},\"renderers\":[{\"id\":\"1520\"}]},\"id\":\"1529\",\"type\":\"LegendItem\"},{\"attributes\":{\"code\":\"\\n        var projections = Bokeh.require(\\\"core/util/projections\\\");\\n        var x = special_vars.data_x\\n        var y = special_vars.data_y\\n        var coords = projections.wgs84_mercator.invert(x, y)\\n        return \\\"\\\" + (coords[0]).toFixed(4)\\n    \"},\"id\":\"1530\",\"type\":\"CustomJSHover\"},{\"attributes\":{},\"id\":\"1468\",\"type\":\"PanTool\"},{\"attributes\":{\"fill_alpha\":{\"value\":0.6},\"fill_color\":{\"field\":\"color\",\"transform\":{\"id\":\"1511\"}},\"hatch_alpha\":{\"value\":0.1},\"hatch_color\":{\"field\":\"color\",\"transform\":{\"id\":\"1511\"}},\"line_alpha\":{\"value\":0.6},\"line_color\":{\"field\":\"color\",\"transform\":{\"id\":\"1511\"}},\"size\":{\"field\":\"size\"},\"tags\":[\"apply_ranges\"],\"x\":{\"field\":\"Lng\"},\"y\":{\"field\":\"Lat\"}},\"id\":\"1516\",\"type\":\"Scatter\"},{\"attributes\":{\"axis_label\":\"y\",\"coordinates\":null,\"formatter\":{\"id\":\"1483\"},\"group\":null,\"major_label_policy\":{\"id\":\"1493\"},\"ticker\":{\"id\":\"1482\"}},\"id\":\"1463\",\"type\":\"LinearAxis\"},{\"attributes\":{\"axis\":{\"id\":\"1463\"},\"coordinates\":null,\"dimension\":1,\"grid_line_color\":null,\"group\":null,\"ticker\":null},\"id\":\"1466\",\"type\":\"Grid\"},{\"attributes\":{},\"id\":\"1513\",\"type\":\"Selection\"},{\"attributes\":{\"fill_alpha\":{\"value\":0.6},\"fill_color\":{\"field\":\"color\",\"transform\":{\"id\":\"1511\"}},\"hatch_alpha\":{\"value\":0.6},\"hatch_color\":{\"field\":\"color\",\"transform\":{\"id\":\"1511\"}},\"line_alpha\":{\"value\":0.6},\"line_color\":{\"field\":\"color\",\"transform\":{\"id\":\"1511\"}},\"size\":{\"field\":\"size\"},\"tags\":[\"apply_ranges\"],\"x\":{\"field\":\"Lng\"},\"y\":{\"field\":\"Lat\"}},\"id\":\"1515\",\"type\":\"Scatter\"}],\"root_ids\":[\"1440\"]},\"title\":\"Bokeh Application\",\"version\":\"2.4.3\"}};\n",
       "    var render_items = [{\"docid\":\"e660c7a5-1185-43a3-8cec-4819c95e3525\",\"root_ids\":[\"1440\"],\"roots\":{\"1440\":\"d1bf3312-6af1-403f-af15-42e9f3b4e6cb\"}}];\n",
       "    root.Bokeh.embed.embed_items_notebook(docs_json, render_items);\n",
       "    for (const render_item of render_items) {\n",
       "      for (const root_id of render_item.root_ids) {\n",
       "\tconst id_el = document.getElementById(root_id)\n",
       "\tif (id_el.children.length && (id_el.children[0].className === 'bk-root')) {\n",
       "\t  const root_el = id_el.children[0]\n",
       "\t  root_el.id = root_el.id + '-rendered'\n",
       "\t}\n",
       "      }\n",
       "    }\n",
       "  }\n",
       "  if (root.Bokeh !== undefined && root.Bokeh.Panel !== undefined) {\n",
       "    embed_document(root);\n",
       "  } else {\n",
       "    var attempts = 0;\n",
       "    var timer = setInterval(function(root) {\n",
       "      if (root.Bokeh !== undefined && root.Bokeh.Panel !== undefined) {\n",
       "        clearInterval(timer);\n",
       "        embed_document(root);\n",
       "      } else if (document.readyState == \"complete\") {\n",
       "        attempts++;\n",
       "        if (attempts > 200) {\n",
       "          clearInterval(timer);\n",
       "          console.log(\"Bokeh: ERROR: Unable to run BokehJS code because BokehJS library is missing\");\n",
       "        }\n",
       "      }\n",
       "    }, 25, root)\n",
       "  }\n",
       "})(window);</script>"
      ],
      "text/plain": [
       ":Overlay\n",
       "   .Tiles.I  :Tiles   [x,y]\n",
       "   .Points.I :Points   [Lng,Lat]   (City,Humidity)"
      ]
     },
     "execution_count": 50,
     "metadata": {
      "application/vnd.holoviews_exec.v0+json": {
       "id": "1440"
      }
     },
     "output_type": "execute_result"
    }
   ],
   "source": [
    "%%capture --no-display\n",
    "\n",
    "# Configure the map plot\n",
    "\n",
    "map_plot_1 = city_data_df.hvplot.points(\n",
    "    \"Lng\",\n",
    "    \"Lat\",\n",
    "    geo = True,\n",
    "    color = \"City\",\n",
    "    size = \"Humidity\",\n",
    "    alpha = 0.6,\n",
    "    tiles = \"OSM\"\n",
    ")\n",
    "\n",
    "# Display the map\n",
    "\n",
    "map_plot_1"
   ]
  },
  {
   "cell_type": "markdown",
   "metadata": {},
   "source": [
    "### Step 2: Narrow down the `city_data_df` DataFrame to find your ideal weather condition"
   ]
  },
  {
   "cell_type": "code",
   "execution_count": 66,
   "metadata": {},
   "outputs": [
    {
     "data": {
      "text/html": [
       "<div>\n",
       "<style scoped>\n",
       "    .dataframe tbody tr th:only-of-type {\n",
       "        vertical-align: middle;\n",
       "    }\n",
       "\n",
       "    .dataframe tbody tr th {\n",
       "        vertical-align: top;\n",
       "    }\n",
       "\n",
       "    .dataframe thead th {\n",
       "        text-align: right;\n",
       "    }\n",
       "</style>\n",
       "<table border=\"1\" class=\"dataframe\">\n",
       "  <thead>\n",
       "    <tr style=\"text-align: right;\">\n",
       "      <th></th>\n",
       "      <th>City_ID</th>\n",
       "      <th>City</th>\n",
       "      <th>Lat</th>\n",
       "      <th>Lng</th>\n",
       "      <th>Max Temp</th>\n",
       "      <th>Humidity</th>\n",
       "      <th>Cloudiness</th>\n",
       "      <th>Windspeed</th>\n",
       "      <th>Country</th>\n",
       "      <th>Date</th>\n",
       "    </tr>\n",
       "  </thead>\n",
       "  <tbody>\n",
       "  </tbody>\n",
       "</table>\n",
       "</div>"
      ],
      "text/plain": [
       "Empty DataFrame\n",
       "Columns: [City_ID, City, Lat, Lng, Max Temp, Humidity, Cloudiness, Windspeed, Country, Date]\n",
       "Index: []"
      ]
     },
     "execution_count": 66,
     "metadata": {},
     "output_type": "execute_result"
    }
   ],
   "source": [
    "# Narrow down cities that fit criteria and drop any results with null values\n",
    "weather_filtered_df = city_data_df.loc[(city_data_df[\"Max Temp\"] < 27)\n",
    "                                       & (city_data_df[\"Max Temp\"] > 21)\n",
    "                                       & (city_data_df[\"Cloudiness\"] == 0)\n",
    "                                       & (city_data_df[\"Windspeed\"] < 4.5)]\n",
    "# Drop any rows with null values\n",
    "weather_filtered_df.dropna()\n",
    "\n",
    "# Display sample data\n",
    "weather_filtered_df.head()"
   ]
  },
  {
   "cell_type": "markdown",
   "metadata": {},
   "source": [
    "### Step 3: Create a new DataFrame called `hotel_df`."
   ]
  },
  {
   "cell_type": "code",
   "execution_count": 52,
   "metadata": {},
   "outputs": [
    {
     "data": {
      "text/html": [
       "<div>\n",
       "<style scoped>\n",
       "    .dataframe tbody tr th:only-of-type {\n",
       "        vertical-align: middle;\n",
       "    }\n",
       "\n",
       "    .dataframe tbody tr th {\n",
       "        vertical-align: top;\n",
       "    }\n",
       "\n",
       "    .dataframe thead th {\n",
       "        text-align: right;\n",
       "    }\n",
       "</style>\n",
       "<table border=\"1\" class=\"dataframe\">\n",
       "  <thead>\n",
       "    <tr style=\"text-align: right;\">\n",
       "      <th></th>\n",
       "      <th>City</th>\n",
       "      <th>Country</th>\n",
       "      <th>Lat</th>\n",
       "      <th>Lng</th>\n",
       "      <th>Humidity</th>\n",
       "      <th>Hotel Name</th>\n",
       "    </tr>\n",
       "  </thead>\n",
       "  <tbody>\n",
       "  </tbody>\n",
       "</table>\n",
       "</div>"
      ],
      "text/plain": [
       "Empty DataFrame\n",
       "Columns: [City, Country, Lat, Lng, Humidity, Hotel Name]\n",
       "Index: []"
      ]
     },
     "execution_count": 52,
     "metadata": {},
     "output_type": "execute_result"
    }
   ],
   "source": [
    "# Use the Pandas copy function to create DataFrame called hotel_df to store the city, country, coordinates, and humidity\n",
    "hotel_df = weather_filtered_df[[\"City\", \"Country\", \"Lat\", \"Lng\", \"Humidity\"]].copy()\n",
    "\n",
    "# Add an empty column, \"Hotel Name,\" to the DataFrame so you can store the hotel found using the Geoapify API\n",
    "hotel_df[\"Hotel Name\"] = \"\"\n",
    "\n",
    "# Display sample data\n",
    "hotel_df"
   ]
  },
  {
   "cell_type": "markdown",
   "metadata": {},
   "source": [
    "### Step 4: For each city, use the Geoapify API to find the first hotel located within 10,000 metres of your coordinates."
   ]
  },
  {
   "cell_type": "code",
   "execution_count": 65,
   "metadata": {},
   "outputs": [
    {
     "name": "stdout",
     "output_type": "stream",
     "text": [
      "Starting hotel search\n"
     ]
    },
    {
     "data": {
      "text/html": [
       "<div>\n",
       "<style scoped>\n",
       "    .dataframe tbody tr th:only-of-type {\n",
       "        vertical-align: middle;\n",
       "    }\n",
       "\n",
       "    .dataframe tbody tr th {\n",
       "        vertical-align: top;\n",
       "    }\n",
       "\n",
       "    .dataframe thead th {\n",
       "        text-align: right;\n",
       "    }\n",
       "</style>\n",
       "<table border=\"1\" class=\"dataframe\">\n",
       "  <thead>\n",
       "    <tr style=\"text-align: right;\">\n",
       "      <th></th>\n",
       "      <th>City</th>\n",
       "      <th>Country</th>\n",
       "      <th>Lat</th>\n",
       "      <th>Lng</th>\n",
       "      <th>Humidity</th>\n",
       "      <th>Hotel Name</th>\n",
       "    </tr>\n",
       "  </thead>\n",
       "  <tbody>\n",
       "  </tbody>\n",
       "</table>\n",
       "</div>"
      ],
      "text/plain": [
       "Empty DataFrame\n",
       "Columns: [City, Country, Lat, Lng, Humidity, Hotel Name]\n",
       "Index: []"
      ]
     },
     "execution_count": 65,
     "metadata": {},
     "output_type": "execute_result"
    }
   ],
   "source": [
    "# Set parameters to search for a hotel\n",
    "radius = 10000\n",
    "params = {'categories':'accommodation.hotel',\n",
    "         'apiKey': geoapify_key,\n",
    "         'limit':1\n",
    "         }\n",
    "\n",
    "\n",
    "# Print a message to follow up the hotel search\n",
    "print(\"Starting hotel search\")\n",
    "\n",
    "# Iterate through the hotel_df DataFrame\n",
    "for index, row in hotel_df.iterrows():\n",
    "    # get latitude, longitude from the DataFrame\n",
    "    lon = row['Lng']\n",
    "    lat = row['Lat']\n",
    "    \n",
    "    # Add filter and bias parameters with the current city's latitude and longitude to the params dictionary\n",
    "    params[\"filter\"] = f'circle:{lon},{lat},{radius}'\n",
    "    params[\"bias\"] = f'proximity:{lon},{lat}'\n",
    "    \n",
    "    # Set base URL\n",
    "    base_url = \"https://api.geoapify.com/v2/places\"\n",
    "\n",
    "    # Make and API request using the params dictionary\n",
    "    name_address = requests.get(base_url, params=params)\n",
    "    \n",
    "    # Convert the API response to JSON format\n",
    "    name_address = name_address.json()\n",
    "    \n",
    "    \n",
    "    # Grab the first hotel from the results and store the name in the hotel_df DataFrame\n",
    "    try:\n",
    "        hotel_df.loc[index, \"Hotel Name\"] = name_address[\"features\"][0][\"properties\"][\"name\"]\n",
    "    except (KeyError, IndexError):\n",
    "#         # If no hotel is found, set the hotel name as \"No hotel found\".\n",
    "        hotel_df.loc[index, \"Hotel Name\"] = \"No hotel found\"\n",
    "        \n",
    "# Log the search results\n",
    "    print(f\"{hotel_df.loc[index, 'City']} - nearest hotel: {hotel_df.loc[index, 'Hotel Name']}\")\n",
    "\n",
    "# # Display sample data\n",
    "hotel_df"
   ]
  },
  {
   "cell_type": "markdown",
   "metadata": {},
   "source": [
    "### Step 5: Add the hotel name and the country as additional information in the hover message for each city in the map."
   ]
  },
  {
   "cell_type": "code",
   "execution_count": 67,
   "metadata": {},
   "outputs": [
    {
     "ename": "ValueError",
     "evalue": "cannot convert float NaN to integer",
     "output_type": "error",
     "traceback": [
      "\u001b[1;31m---------------------------------------------------------------------------\u001b[0m",
      "\u001b[1;31mValueError\u001b[0m                                Traceback (most recent call last)",
      "File \u001b[1;32m~\\AppData\\Roaming\\Python\\Python310\\site-packages\\IPython\\core\\formatters.py:974\u001b[0m, in \u001b[0;36mMimeBundleFormatter.__call__\u001b[1;34m(self, obj, include, exclude)\u001b[0m\n\u001b[0;32m    971\u001b[0m     method \u001b[39m=\u001b[39m get_real_method(obj, \u001b[39mself\u001b[39m\u001b[39m.\u001b[39mprint_method)\n\u001b[0;32m    973\u001b[0m     \u001b[39mif\u001b[39;00m method \u001b[39mis\u001b[39;00m \u001b[39mnot\u001b[39;00m \u001b[39mNone\u001b[39;00m:\n\u001b[1;32m--> 974\u001b[0m         \u001b[39mreturn\u001b[39;00m method(include\u001b[39m=\u001b[39;49minclude, exclude\u001b[39m=\u001b[39;49mexclude)\n\u001b[0;32m    975\u001b[0m     \u001b[39mreturn\u001b[39;00m \u001b[39mNone\u001b[39;00m\n\u001b[0;32m    976\u001b[0m \u001b[39melse\u001b[39;00m:\n",
      "File \u001b[1;32mc:\\Users\\wstod\\anacond3real\\envs\\dev\\lib\\site-packages\\holoviews\\core\\dimension.py:1290\u001b[0m, in \u001b[0;36mDimensioned._repr_mimebundle_\u001b[1;34m(self, include, exclude)\u001b[0m\n\u001b[0;32m   1283\u001b[0m \u001b[39mdef\u001b[39;00m \u001b[39m_repr_mimebundle_\u001b[39m(\u001b[39mself\u001b[39m, include\u001b[39m=\u001b[39m\u001b[39mNone\u001b[39;00m, exclude\u001b[39m=\u001b[39m\u001b[39mNone\u001b[39;00m):\n\u001b[0;32m   1284\u001b[0m \u001b[39m    \u001b[39m\u001b[39m\"\"\"\u001b[39;00m\n\u001b[0;32m   1285\u001b[0m \u001b[39m    Resolves the class hierarchy for the class rendering the\u001b[39;00m\n\u001b[0;32m   1286\u001b[0m \u001b[39m    object using any display hooks registered on Store.display\u001b[39;00m\n\u001b[0;32m   1287\u001b[0m \u001b[39m    hooks.  The output of all registered display_hooks is then\u001b[39;00m\n\u001b[0;32m   1288\u001b[0m \u001b[39m    combined and returned.\u001b[39;00m\n\u001b[0;32m   1289\u001b[0m \u001b[39m    \"\"\"\u001b[39;00m\n\u001b[1;32m-> 1290\u001b[0m     \u001b[39mreturn\u001b[39;00m Store\u001b[39m.\u001b[39;49mrender(\u001b[39mself\u001b[39;49m)\n",
      "File \u001b[1;32mc:\\Users\\wstod\\anacond3real\\envs\\dev\\lib\\site-packages\\holoviews\\core\\options.py:1425\u001b[0m, in \u001b[0;36mStore.render\u001b[1;34m(cls, obj)\u001b[0m\n\u001b[0;32m   1423\u001b[0m data, metadata \u001b[39m=\u001b[39m {}, {}\n\u001b[0;32m   1424\u001b[0m \u001b[39mfor\u001b[39;00m hook \u001b[39min\u001b[39;00m hooks:\n\u001b[1;32m-> 1425\u001b[0m     ret \u001b[39m=\u001b[39m hook(obj)\n\u001b[0;32m   1426\u001b[0m     \u001b[39mif\u001b[39;00m ret \u001b[39mis\u001b[39;00m \u001b[39mNone\u001b[39;00m:\n\u001b[0;32m   1427\u001b[0m         \u001b[39mcontinue\u001b[39;00m\n",
      "File \u001b[1;32mc:\\Users\\wstod\\anacond3real\\envs\\dev\\lib\\site-packages\\holoviews\\ipython\\display_hooks.py:280\u001b[0m, in \u001b[0;36mpprint_display\u001b[1;34m(obj)\u001b[0m\n\u001b[0;32m    278\u001b[0m \u001b[39mif\u001b[39;00m \u001b[39mnot\u001b[39;00m ip\u001b[39m.\u001b[39mdisplay_formatter\u001b[39m.\u001b[39mformatters[\u001b[39m'\u001b[39m\u001b[39mtext/plain\u001b[39m\u001b[39m'\u001b[39m]\u001b[39m.\u001b[39mpprint:\n\u001b[0;32m    279\u001b[0m     \u001b[39mreturn\u001b[39;00m \u001b[39mNone\u001b[39;00m\n\u001b[1;32m--> 280\u001b[0m \u001b[39mreturn\u001b[39;00m display(obj, raw_output\u001b[39m=\u001b[39;49m\u001b[39mTrue\u001b[39;49;00m)\n",
      "File \u001b[1;32mc:\\Users\\wstod\\anacond3real\\envs\\dev\\lib\\site-packages\\holoviews\\ipython\\display_hooks.py:248\u001b[0m, in \u001b[0;36mdisplay\u001b[1;34m(obj, raw_output, **kwargs)\u001b[0m\n\u001b[0;32m    246\u001b[0m \u001b[39melif\u001b[39;00m \u001b[39misinstance\u001b[39m(obj, (CompositeOverlay, ViewableElement)):\n\u001b[0;32m    247\u001b[0m     \u001b[39mwith\u001b[39;00m option_state(obj):\n\u001b[1;32m--> 248\u001b[0m         output \u001b[39m=\u001b[39m element_display(obj)\n\u001b[0;32m    249\u001b[0m \u001b[39melif\u001b[39;00m \u001b[39misinstance\u001b[39m(obj, (Layout, NdLayout, AdjointLayout)):\n\u001b[0;32m    250\u001b[0m     \u001b[39mwith\u001b[39;00m option_state(obj):\n",
      "File \u001b[1;32mc:\\Users\\wstod\\anacond3real\\envs\\dev\\lib\\site-packages\\holoviews\\ipython\\display_hooks.py:142\u001b[0m, in \u001b[0;36mdisplay_hook.<locals>.wrapped\u001b[1;34m(element)\u001b[0m\n\u001b[0;32m    140\u001b[0m \u001b[39mtry\u001b[39;00m:\n\u001b[0;32m    141\u001b[0m     max_frames \u001b[39m=\u001b[39m OutputSettings\u001b[39m.\u001b[39moptions[\u001b[39m'\u001b[39m\u001b[39mmax_frames\u001b[39m\u001b[39m'\u001b[39m]\n\u001b[1;32m--> 142\u001b[0m     mimebundle \u001b[39m=\u001b[39m fn(element, max_frames\u001b[39m=\u001b[39;49mmax_frames)\n\u001b[0;32m    143\u001b[0m     \u001b[39mif\u001b[39;00m mimebundle \u001b[39mis\u001b[39;00m \u001b[39mNone\u001b[39;00m:\n\u001b[0;32m    144\u001b[0m         \u001b[39mreturn\u001b[39;00m {}, {}\n",
      "File \u001b[1;32mc:\\Users\\wstod\\anacond3real\\envs\\dev\\lib\\site-packages\\holoviews\\ipython\\display_hooks.py:188\u001b[0m, in \u001b[0;36melement_display\u001b[1;34m(element, max_frames)\u001b[0m\n\u001b[0;32m    185\u001b[0m \u001b[39mif\u001b[39;00m \u001b[39mtype\u001b[39m(element) \u001b[39mnot\u001b[39;00m \u001b[39min\u001b[39;00m Store\u001b[39m.\u001b[39mregistry[backend]:\n\u001b[0;32m    186\u001b[0m     \u001b[39mreturn\u001b[39;00m \u001b[39mNone\u001b[39;00m\n\u001b[1;32m--> 188\u001b[0m \u001b[39mreturn\u001b[39;00m render(element)\n",
      "File \u001b[1;32mc:\\Users\\wstod\\anacond3real\\envs\\dev\\lib\\site-packages\\holoviews\\ipython\\display_hooks.py:69\u001b[0m, in \u001b[0;36mrender\u001b[1;34m(obj, **kwargs)\u001b[0m\n\u001b[0;32m     66\u001b[0m \u001b[39mif\u001b[39;00m renderer\u001b[39m.\u001b[39mfig \u001b[39m==\u001b[39m \u001b[39m'\u001b[39m\u001b[39mpdf\u001b[39m\u001b[39m'\u001b[39m:\n\u001b[0;32m     67\u001b[0m     renderer \u001b[39m=\u001b[39m renderer\u001b[39m.\u001b[39minstance(fig\u001b[39m=\u001b[39m\u001b[39m'\u001b[39m\u001b[39mpng\u001b[39m\u001b[39m'\u001b[39m)\n\u001b[1;32m---> 69\u001b[0m \u001b[39mreturn\u001b[39;00m renderer\u001b[39m.\u001b[39mcomponents(obj, \u001b[39m*\u001b[39m\u001b[39m*\u001b[39mkwargs)\n",
      "File \u001b[1;32mc:\\Users\\wstod\\anacond3real\\envs\\dev\\lib\\site-packages\\holoviews\\plotting\\renderer.py:399\u001b[0m, in \u001b[0;36mRenderer.components\u001b[1;34m(self, obj, fmt, comm, **kwargs)\u001b[0m\n\u001b[0;32m    396\u001b[0m embed \u001b[39m=\u001b[39m (\u001b[39mnot\u001b[39;00m (dynamic \u001b[39mor\u001b[39;00m streams \u001b[39mor\u001b[39;00m \u001b[39mself\u001b[39m\u001b[39m.\u001b[39mwidget_mode \u001b[39m==\u001b[39m \u001b[39m'\u001b[39m\u001b[39mlive\u001b[39m\u001b[39m'\u001b[39m) \u001b[39mor\u001b[39;00m config\u001b[39m.\u001b[39membed)\n\u001b[0;32m    398\u001b[0m \u001b[39mif\u001b[39;00m embed \u001b[39mor\u001b[39;00m config\u001b[39m.\u001b[39mcomms \u001b[39m==\u001b[39m \u001b[39m'\u001b[39m\u001b[39mdefault\u001b[39m\u001b[39m'\u001b[39m:\n\u001b[1;32m--> 399\u001b[0m     \u001b[39mreturn\u001b[39;00m \u001b[39mself\u001b[39;49m\u001b[39m.\u001b[39;49m_render_panel(plot, embed, comm)\n\u001b[0;32m    400\u001b[0m \u001b[39mreturn\u001b[39;00m \u001b[39mself\u001b[39m\u001b[39m.\u001b[39m_render_ipywidget(plot)\n",
      "File \u001b[1;32mc:\\Users\\wstod\\anacond3real\\envs\\dev\\lib\\site-packages\\holoviews\\plotting\\renderer.py:406\u001b[0m, in \u001b[0;36mRenderer._render_panel\u001b[1;34m(self, plot, embed, comm)\u001b[0m\n\u001b[0;32m    404\u001b[0m doc \u001b[39m=\u001b[39m Document()\n\u001b[0;32m    405\u001b[0m \u001b[39mwith\u001b[39;00m config\u001b[39m.\u001b[39mset(embed\u001b[39m=\u001b[39membed):\n\u001b[1;32m--> 406\u001b[0m     model \u001b[39m=\u001b[39m plot\u001b[39m.\u001b[39;49mlayout\u001b[39m.\u001b[39;49m_render_model(doc, comm)\n\u001b[0;32m    407\u001b[0m \u001b[39mif\u001b[39;00m embed:\n\u001b[0;32m    408\u001b[0m     \u001b[39mreturn\u001b[39;00m render_model(model, comm)\n",
      "File \u001b[1;32mc:\\Users\\wstod\\anacond3real\\envs\\dev\\lib\\site-packages\\panel\\viewable.py:509\u001b[0m, in \u001b[0;36mRenderable._render_model\u001b[1;34m(self, doc, comm)\u001b[0m\n\u001b[0;32m    507\u001b[0m \u001b[39mif\u001b[39;00m comm \u001b[39mis\u001b[39;00m \u001b[39mNone\u001b[39;00m:\n\u001b[0;32m    508\u001b[0m     comm \u001b[39m=\u001b[39m state\u001b[39m.\u001b[39m_comm_manager\u001b[39m.\u001b[39mget_server_comm()\n\u001b[1;32m--> 509\u001b[0m model \u001b[39m=\u001b[39m \u001b[39mself\u001b[39;49m\u001b[39m.\u001b[39;49mget_root(doc, comm)\n\u001b[0;32m    511\u001b[0m \u001b[39mif\u001b[39;00m config\u001b[39m.\u001b[39membed:\n\u001b[0;32m    512\u001b[0m     embed_state(\u001b[39mself\u001b[39m, model, doc,\n\u001b[0;32m    513\u001b[0m                 json\u001b[39m=\u001b[39mconfig\u001b[39m.\u001b[39membed_json,\n\u001b[0;32m    514\u001b[0m                 json_prefix\u001b[39m=\u001b[39mconfig\u001b[39m.\u001b[39membed_json_prefix,\n\u001b[0;32m    515\u001b[0m                 save_path\u001b[39m=\u001b[39mconfig\u001b[39m.\u001b[39membed_save_path,\n\u001b[0;32m    516\u001b[0m                 load_path\u001b[39m=\u001b[39mconfig\u001b[39m.\u001b[39membed_load_path,\n\u001b[0;32m    517\u001b[0m                 progress\u001b[39m=\u001b[39m\u001b[39mFalse\u001b[39;00m)\n",
      "File \u001b[1;32mc:\\Users\\wstod\\anacond3real\\envs\\dev\\lib\\site-packages\\panel\\viewable.py:560\u001b[0m, in \u001b[0;36mRenderable.get_root\u001b[1;34m(self, doc, comm, preprocess)\u001b[0m\n\u001b[0;32m    543\u001b[0m \u001b[39m\u001b[39m\u001b[39m\"\"\"\u001b[39;00m\n\u001b[0;32m    544\u001b[0m \u001b[39mReturns the root model and applies pre-processing hooks\u001b[39;00m\n\u001b[0;32m    545\u001b[0m \n\u001b[1;32m   (...)\u001b[0m\n\u001b[0;32m    557\u001b[0m \u001b[39mReturns the bokeh model corresponding to this panel object\u001b[39;00m\n\u001b[0;32m    558\u001b[0m \u001b[39m\"\"\"\u001b[39;00m\n\u001b[0;32m    559\u001b[0m doc \u001b[39m=\u001b[39m init_doc(doc)\n\u001b[1;32m--> 560\u001b[0m root \u001b[39m=\u001b[39m \u001b[39mself\u001b[39;49m\u001b[39m.\u001b[39;49m_get_model(doc, comm\u001b[39m=\u001b[39;49mcomm)\n\u001b[0;32m    561\u001b[0m \u001b[39mif\u001b[39;00m preprocess:\n\u001b[0;32m    562\u001b[0m     \u001b[39mself\u001b[39m\u001b[39m.\u001b[39m_preprocess(root)\n",
      "File \u001b[1;32mc:\\Users\\wstod\\anacond3real\\envs\\dev\\lib\\site-packages\\panel\\layout\\base.py:146\u001b[0m, in \u001b[0;36mPanel._get_model\u001b[1;34m(self, doc, root, parent, comm)\u001b[0m\n\u001b[0;32m    144\u001b[0m \u001b[39mif\u001b[39;00m root \u001b[39mis\u001b[39;00m \u001b[39mNone\u001b[39;00m:\n\u001b[0;32m    145\u001b[0m     root \u001b[39m=\u001b[39m model\n\u001b[1;32m--> 146\u001b[0m objects \u001b[39m=\u001b[39m \u001b[39mself\u001b[39;49m\u001b[39m.\u001b[39;49m_get_objects(model, [], doc, root, comm)\n\u001b[0;32m    147\u001b[0m props \u001b[39m=\u001b[39m \u001b[39mdict\u001b[39m(\u001b[39mself\u001b[39m\u001b[39m.\u001b[39m_init_params(), objects\u001b[39m=\u001b[39mobjects)\n\u001b[0;32m    148\u001b[0m model\u001b[39m.\u001b[39mupdate(\u001b[39m*\u001b[39m\u001b[39m*\u001b[39m\u001b[39mself\u001b[39m\u001b[39m.\u001b[39m_process_param_change(props))\n",
      "File \u001b[1;32mc:\\Users\\wstod\\anacond3real\\envs\\dev\\lib\\site-packages\\panel\\layout\\base.py:131\u001b[0m, in \u001b[0;36mPanel._get_objects\u001b[1;34m(self, model, old_objects, doc, root, comm)\u001b[0m\n\u001b[0;32m    129\u001b[0m \u001b[39melse\u001b[39;00m:\n\u001b[0;32m    130\u001b[0m     \u001b[39mtry\u001b[39;00m:\n\u001b[1;32m--> 131\u001b[0m         child \u001b[39m=\u001b[39m pane\u001b[39m.\u001b[39;49m_get_model(doc, root, model, comm)\n\u001b[0;32m    132\u001b[0m     \u001b[39mexcept\u001b[39;00m RerenderError:\n\u001b[0;32m    133\u001b[0m         \u001b[39mreturn\u001b[39;00m \u001b[39mself\u001b[39m\u001b[39m.\u001b[39m_get_objects(model, current_objects[:i], doc, root, comm)\n",
      "File \u001b[1;32mc:\\Users\\wstod\\anacond3real\\envs\\dev\\lib\\site-packages\\panel\\pane\\holoviews.py:367\u001b[0m, in \u001b[0;36mHoloViews._get_model\u001b[1;34m(self, doc, root, parent, comm)\u001b[0m\n\u001b[0;32m    365\u001b[0m     plot \u001b[39m=\u001b[39m \u001b[39mself\u001b[39m\u001b[39m.\u001b[39mobject\n\u001b[0;32m    366\u001b[0m \u001b[39melse\u001b[39;00m:\n\u001b[1;32m--> 367\u001b[0m     plot \u001b[39m=\u001b[39m \u001b[39mself\u001b[39;49m\u001b[39m.\u001b[39;49m_render(doc, comm, root)\n\u001b[0;32m    369\u001b[0m plot\u001b[39m.\u001b[39mpane \u001b[39m=\u001b[39m \u001b[39mself\u001b[39m\n\u001b[0;32m    370\u001b[0m backend \u001b[39m=\u001b[39m plot\u001b[39m.\u001b[39mrenderer\u001b[39m.\u001b[39mbackend\n",
      "File \u001b[1;32mc:\\Users\\wstod\\anacond3real\\envs\\dev\\lib\\site-packages\\panel\\pane\\holoviews.py:442\u001b[0m, in \u001b[0;36mHoloViews._render\u001b[1;34m(self, doc, comm, root)\u001b[0m\n\u001b[0;32m    439\u001b[0m     \u001b[39mif\u001b[39;00m comm:\n\u001b[0;32m    440\u001b[0m         kwargs[\u001b[39m'\u001b[39m\u001b[39mcomm\u001b[39m\u001b[39m'\u001b[39m] \u001b[39m=\u001b[39m comm\n\u001b[1;32m--> 442\u001b[0m \u001b[39mreturn\u001b[39;00m renderer\u001b[39m.\u001b[39mget_plot(\u001b[39mself\u001b[39m\u001b[39m.\u001b[39mobject, \u001b[39m*\u001b[39m\u001b[39m*\u001b[39mkwargs)\n",
      "File \u001b[1;32mc:\\Users\\wstod\\anacond3real\\envs\\dev\\lib\\site-packages\\holoviews\\plotting\\bokeh\\renderer.py:70\u001b[0m, in \u001b[0;36mBokehRenderer.get_plot\u001b[1;34m(self_or_cls, obj, doc, renderer, **kwargs)\u001b[0m\n\u001b[0;32m     63\u001b[0m \u001b[39m@bothmethod\u001b[39m\n\u001b[0;32m     64\u001b[0m \u001b[39mdef\u001b[39;00m \u001b[39mget_plot\u001b[39m(self_or_cls, obj, doc\u001b[39m=\u001b[39m\u001b[39mNone\u001b[39;00m, renderer\u001b[39m=\u001b[39m\u001b[39mNone\u001b[39;00m, \u001b[39m*\u001b[39m\u001b[39m*\u001b[39mkwargs):\n\u001b[0;32m     65\u001b[0m \u001b[39m    \u001b[39m\u001b[39m\"\"\"\u001b[39;00m\n\u001b[0;32m     66\u001b[0m \u001b[39m    Given a HoloViews Viewable return a corresponding plot instance.\u001b[39;00m\n\u001b[0;32m     67\u001b[0m \u001b[39m    Allows supplying a document attach the plot to, useful when\u001b[39;00m\n\u001b[0;32m     68\u001b[0m \u001b[39m    combining the bokeh model with another plot.\u001b[39;00m\n\u001b[0;32m     69\u001b[0m \u001b[39m    \"\"\"\u001b[39;00m\n\u001b[1;32m---> 70\u001b[0m     plot \u001b[39m=\u001b[39m \u001b[39msuper\u001b[39m()\u001b[39m.\u001b[39mget_plot(obj, doc, renderer, \u001b[39m*\u001b[39m\u001b[39m*\u001b[39mkwargs)\n\u001b[0;32m     71\u001b[0m     \u001b[39mif\u001b[39;00m plot\u001b[39m.\u001b[39mdocument \u001b[39mis\u001b[39;00m \u001b[39mNone\u001b[39;00m:\n\u001b[0;32m     72\u001b[0m         plot\u001b[39m.\u001b[39mdocument \u001b[39m=\u001b[39m Document() \u001b[39mif\u001b[39;00m self_or_cls\u001b[39m.\u001b[39mnotebook_context \u001b[39melse\u001b[39;00m curdoc()\n",
      "File \u001b[1;32mc:\\Users\\wstod\\anacond3real\\envs\\dev\\lib\\site-packages\\holoviews\\plotting\\renderer.py:241\u001b[0m, in \u001b[0;36mRenderer.get_plot\u001b[1;34m(self_or_cls, obj, doc, renderer, comm, **kwargs)\u001b[0m\n\u001b[0;32m    238\u001b[0m     defaults \u001b[39m=\u001b[39m [kd\u001b[39m.\u001b[39mdefault \u001b[39mfor\u001b[39;00m kd \u001b[39min\u001b[39;00m plot\u001b[39m.\u001b[39mdimensions]\n\u001b[0;32m    239\u001b[0m     init_key \u001b[39m=\u001b[39m \u001b[39mtuple\u001b[39m(v \u001b[39mif\u001b[39;00m d \u001b[39mis\u001b[39;00m \u001b[39mNone\u001b[39;00m \u001b[39melse\u001b[39;00m d \u001b[39mfor\u001b[39;00m v, d \u001b[39min\u001b[39;00m\n\u001b[0;32m    240\u001b[0m                      \u001b[39mzip\u001b[39m(plot\u001b[39m.\u001b[39mkeys[\u001b[39m0\u001b[39m], defaults))\n\u001b[1;32m--> 241\u001b[0m     plot\u001b[39m.\u001b[39;49mupdate(init_key)\n\u001b[0;32m    242\u001b[0m \u001b[39melse\u001b[39;00m:\n\u001b[0;32m    243\u001b[0m     plot \u001b[39m=\u001b[39m obj\n",
      "File \u001b[1;32mc:\\Users\\wstod\\anacond3real\\envs\\dev\\lib\\site-packages\\holoviews\\plotting\\plot.py:936\u001b[0m, in \u001b[0;36mDimensionedPlot.update\u001b[1;34m(self, key)\u001b[0m\n\u001b[0;32m    934\u001b[0m \u001b[39mdef\u001b[39;00m \u001b[39mupdate\u001b[39m(\u001b[39mself\u001b[39m, key):\n\u001b[0;32m    935\u001b[0m     \u001b[39mif\u001b[39;00m \u001b[39mlen\u001b[39m(\u001b[39mself\u001b[39m) \u001b[39m==\u001b[39m \u001b[39m1\u001b[39m \u001b[39mand\u001b[39;00m ((key \u001b[39m==\u001b[39m \u001b[39m0\u001b[39m) \u001b[39mor\u001b[39;00m (key \u001b[39m==\u001b[39m \u001b[39mself\u001b[39m\u001b[39m.\u001b[39mkeys[\u001b[39m0\u001b[39m])) \u001b[39mand\u001b[39;00m \u001b[39mnot\u001b[39;00m \u001b[39mself\u001b[39m\u001b[39m.\u001b[39mdrawn:\n\u001b[1;32m--> 936\u001b[0m         \u001b[39mreturn\u001b[39;00m \u001b[39mself\u001b[39;49m\u001b[39m.\u001b[39;49minitialize_plot()\n\u001b[0;32m    937\u001b[0m     item \u001b[39m=\u001b[39m \u001b[39mself\u001b[39m\u001b[39m.\u001b[39m\u001b[39m__getitem__\u001b[39m(key)\n\u001b[0;32m    938\u001b[0m     \u001b[39mself\u001b[39m\u001b[39m.\u001b[39mtraverse(\u001b[39mlambda\u001b[39;00m x: \u001b[39msetattr\u001b[39m(x, \u001b[39m'\u001b[39m\u001b[39m_updated\u001b[39m\u001b[39m'\u001b[39m, \u001b[39mTrue\u001b[39;00m))\n",
      "File \u001b[1;32mc:\\Users\\wstod\\anacond3real\\envs\\dev\\lib\\site-packages\\geoviews\\plotting\\bokeh\\plot.py:107\u001b[0m, in \u001b[0;36mGeoPlot.initialize_plot\u001b[1;34m(self, ranges, plot, plots, source)\u001b[0m\n\u001b[0;32m    105\u001b[0m \u001b[39mdef\u001b[39;00m \u001b[39minitialize_plot\u001b[39m(\u001b[39mself\u001b[39m, ranges\u001b[39m=\u001b[39m\u001b[39mNone\u001b[39;00m, plot\u001b[39m=\u001b[39m\u001b[39mNone\u001b[39;00m, plots\u001b[39m=\u001b[39m\u001b[39mNone\u001b[39;00m, source\u001b[39m=\u001b[39m\u001b[39mNone\u001b[39;00m):\n\u001b[0;32m    106\u001b[0m     opts \u001b[39m=\u001b[39m {} \u001b[39mif\u001b[39;00m \u001b[39misinstance\u001b[39m(\u001b[39mself\u001b[39m, HvOverlayPlot) \u001b[39melse\u001b[39;00m {\u001b[39m'\u001b[39m\u001b[39msource\u001b[39m\u001b[39m'\u001b[39m: source}\n\u001b[1;32m--> 107\u001b[0m     fig \u001b[39m=\u001b[39m \u001b[39msuper\u001b[39m(GeoPlot, \u001b[39mself\u001b[39m)\u001b[39m.\u001b[39minitialize_plot(ranges, plot, plots, \u001b[39m*\u001b[39m\u001b[39m*\u001b[39mopts)\n\u001b[0;32m    108\u001b[0m     \u001b[39mif\u001b[39;00m \u001b[39mself\u001b[39m\u001b[39m.\u001b[39mgeographic \u001b[39mand\u001b[39;00m \u001b[39mself\u001b[39m\u001b[39m.\u001b[39mshow_bounds \u001b[39mand\u001b[39;00m \u001b[39mnot\u001b[39;00m \u001b[39mself\u001b[39m\u001b[39m.\u001b[39moverlaid:\n\u001b[0;32m    109\u001b[0m         \u001b[39mfrom\u001b[39;00m \u001b[39m.\u001b[39;00m \u001b[39mimport\u001b[39;00m GeoShapePlot\n",
      "File \u001b[1;32mc:\\Users\\wstod\\anacond3real\\envs\\dev\\lib\\site-packages\\holoviews\\plotting\\bokeh\\element.py:2499\u001b[0m, in \u001b[0;36mOverlayPlot.initialize_plot\u001b[1;34m(self, ranges, plot, plots)\u001b[0m\n\u001b[0;32m   2497\u001b[0m \u001b[39mif\u001b[39;00m plot \u001b[39mand\u001b[39;00m \u001b[39mnot\u001b[39;00m \u001b[39mself\u001b[39m\u001b[39m.\u001b[39moverlaid:\n\u001b[0;32m   2498\u001b[0m     \u001b[39mself\u001b[39m\u001b[39m.\u001b[39m_update_plot(key, plot, element)\n\u001b[1;32m-> 2499\u001b[0m     \u001b[39mself\u001b[39;49m\u001b[39m.\u001b[39;49m_update_ranges(element, ranges)\n\u001b[0;32m   2501\u001b[0m panels \u001b[39m=\u001b[39m []\n\u001b[0;32m   2502\u001b[0m \u001b[39mfor\u001b[39;00m key, subplot \u001b[39min\u001b[39;00m \u001b[39mself\u001b[39m\u001b[39m.\u001b[39msubplots\u001b[39m.\u001b[39mitems():\n",
      "File \u001b[1;32mc:\\Users\\wstod\\anacond3real\\envs\\dev\\lib\\site-packages\\geoviews\\plotting\\bokeh\\plot.py:86\u001b[0m, in \u001b[0;36mGeoPlot._update_ranges\u001b[1;34m(self, element, ranges)\u001b[0m\n\u001b[0;32m     85\u001b[0m \u001b[39mdef\u001b[39;00m \u001b[39m_update_ranges\u001b[39m(\u001b[39mself\u001b[39m, element, ranges):\n\u001b[1;32m---> 86\u001b[0m     \u001b[39msuper\u001b[39;49m(GeoPlot, \u001b[39mself\u001b[39;49m)\u001b[39m.\u001b[39;49m_update_ranges(element, ranges)\n\u001b[0;32m     87\u001b[0m     \u001b[39mif\u001b[39;00m \u001b[39mnot\u001b[39;00m \u001b[39mself\u001b[39m\u001b[39m.\u001b[39mgeographic:\n\u001b[0;32m     88\u001b[0m         \u001b[39mreturn\u001b[39;00m\n",
      "File \u001b[1;32mc:\\Users\\wstod\\anacond3real\\envs\\dev\\lib\\site-packages\\holoviews\\plotting\\bokeh\\element.py:903\u001b[0m, in \u001b[0;36mElementPlot._update_ranges\u001b[1;34m(self, element, ranges)\u001b[0m\n\u001b[0;32m    901\u001b[0m \u001b[39mif\u001b[39;00m fixed_height:\n\u001b[0;32m    902\u001b[0m     plot\u001b[39m.\u001b[39mframe_height \u001b[39m=\u001b[39m height\n\u001b[1;32m--> 903\u001b[0m     plot\u001b[39m.\u001b[39mframe_width \u001b[39m=\u001b[39m \u001b[39mint\u001b[39;49m(height\u001b[39m/\u001b[39;49maspect)\n\u001b[0;32m    904\u001b[0m     plot\u001b[39m.\u001b[39mwidth, plot\u001b[39m.\u001b[39mheight \u001b[39m=\u001b[39m \u001b[39mNone\u001b[39;00m, \u001b[39mNone\u001b[39;00m\n\u001b[0;32m    905\u001b[0m \u001b[39melif\u001b[39;00m fixed_width:\n",
      "\u001b[1;31mValueError\u001b[0m: cannot convert float NaN to integer"
     ]
    },
    {
     "data": {
      "text/plain": [
       ":Overlay\n",
       "   .Tiles.I  :Tiles   [x,y]\n",
       "   .Points.I :Points   [Lng,Lat]   (City,Humidity,Hotel Name,Country)"
      ]
     },
     "execution_count": 67,
     "metadata": {},
     "output_type": "execute_result"
    }
   ],
   "source": [
    "%%capture --no-display\n",
    "\n",
    "# Configure the map plot\n",
    "map_plot_2 = hotel_df.hvplot.points(\"Lng\", \n",
    "                                   \"Lat\", \n",
    "                                   geo = True,\n",
    "                                   color = \"City\",\n",
    "                                   alpha = 0.8,\n",
    "                                   size = \"Humidity\",\n",
    "                                   tiles = \"OSM\",\n",
    "                                   hover_cols = [\"Hotel Name\", \"Country\"]\n",
    "                                  )\n",
    "\n",
    "# Display the map\n",
    "map_plot_2"
   ]
  },
  {
   "cell_type": "code",
   "execution_count": null,
   "metadata": {},
   "outputs": [],
   "source": []
  }
 ],
 "metadata": {
  "kernelspec": {
   "display_name": "Python 3 (ipykernel)",
   "language": "python",
   "name": "python3"
  },
  "language_info": {
   "codemirror_mode": {
    "name": "ipython",
    "version": 3
   },
   "file_extension": ".py",
   "mimetype": "text/x-python",
   "name": "python",
   "nbconvert_exporter": "python",
   "pygments_lexer": "ipython3",
   "version": "3.10.11"
  },
  "latex_envs": {
   "LaTeX_envs_menu_present": true,
   "autoclose": false,
   "autocomplete": true,
   "bibliofile": "biblio.bib",
   "cite_by": "apalike",
   "current_citInitial": 1,
   "eqLabelWithNumbers": true,
   "eqNumInitial": 1,
   "hotkeys": {
    "equation": "Ctrl-E",
    "itemize": "Ctrl-I"
   },
   "labels_anchors": false,
   "latex_user_defs": false,
   "report_style_numbering": false,
   "user_envs_cfg": false
  }
 },
 "nbformat": 4,
 "nbformat_minor": 4
}
