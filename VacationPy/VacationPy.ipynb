{
 "cells": [
  {
   "cell_type": "markdown",
   "metadata": {},
   "source": [
    "# VacationPy\n",
    "---\n",
    "\n",
    "## Starter Code to Import Libraries and Load the Weather and Coordinates Data"
   ]
  },
  {
   "cell_type": "code",
   "execution_count": 4,
   "metadata": {},
   "outputs": [],
   "source": [
    "# Dependencies and Setup\n",
    "import hvplot.pandas\n",
    "import pandas as pd\n",
    "import requests\n",
    "\n",
    "# Import API key\n",
    "from api_keys import geoapify_key"
   ]
  },
  {
   "cell_type": "code",
   "execution_count": 5,
   "metadata": {},
   "outputs": [
    {
     "data": {
      "text/html": [
       "<div>\n",
       "<style scoped>\n",
       "    .dataframe tbody tr th:only-of-type {\n",
       "        vertical-align: middle;\n",
       "    }\n",
       "\n",
       "    .dataframe tbody tr th {\n",
       "        vertical-align: top;\n",
       "    }\n",
       "\n",
       "    .dataframe thead th {\n",
       "        text-align: right;\n",
       "    }\n",
       "</style>\n",
       "<table border=\"1\" class=\"dataframe\">\n",
       "  <thead>\n",
       "    <tr style=\"text-align: right;\">\n",
       "      <th></th>\n",
       "      <th>City_ID</th>\n",
       "      <th>City</th>\n",
       "      <th>Lat</th>\n",
       "      <th>Lng</th>\n",
       "      <th>Max Temp</th>\n",
       "      <th>Humidity</th>\n",
       "      <th>Cloudiness</th>\n",
       "      <th>Windspeed</th>\n",
       "      <th>Country</th>\n",
       "      <th>Date</th>\n",
       "    </tr>\n",
       "  </thead>\n",
       "  <tbody>\n",
       "    <tr>\n",
       "      <th>0</th>\n",
       "      <td>0</td>\n",
       "      <td>talnakh</td>\n",
       "      <td>69.4865</td>\n",
       "      <td>88.3972</td>\n",
       "      <td>69.21</td>\n",
       "      <td>66</td>\n",
       "      <td>9</td>\n",
       "      <td>5.01</td>\n",
       "      <td>RU</td>\n",
       "      <td>1690405425</td>\n",
       "    </tr>\n",
       "    <tr>\n",
       "      <th>1</th>\n",
       "      <td>1</td>\n",
       "      <td>navoiy</td>\n",
       "      <td>40.0844</td>\n",
       "      <td>65.3792</td>\n",
       "      <td>81.88</td>\n",
       "      <td>18</td>\n",
       "      <td>0</td>\n",
       "      <td>4.61</td>\n",
       "      <td>UZ</td>\n",
       "      <td>1690405653</td>\n",
       "    </tr>\n",
       "    <tr>\n",
       "      <th>2</th>\n",
       "      <td>2</td>\n",
       "      <td>chonchi</td>\n",
       "      <td>-42.6128</td>\n",
       "      <td>-73.8092</td>\n",
       "      <td>48.11</td>\n",
       "      <td>93</td>\n",
       "      <td>100</td>\n",
       "      <td>0.92</td>\n",
       "      <td>CL</td>\n",
       "      <td>1690405654</td>\n",
       "    </tr>\n",
       "    <tr>\n",
       "      <th>3</th>\n",
       "      <td>3</td>\n",
       "      <td>yellowknife</td>\n",
       "      <td>62.4560</td>\n",
       "      <td>-114.3525</td>\n",
       "      <td>75.60</td>\n",
       "      <td>30</td>\n",
       "      <td>1</td>\n",
       "      <td>11.48</td>\n",
       "      <td>CA</td>\n",
       "      <td>1690405654</td>\n",
       "    </tr>\n",
       "    <tr>\n",
       "      <th>4</th>\n",
       "      <td>4</td>\n",
       "      <td>port-aux-francais</td>\n",
       "      <td>-49.3500</td>\n",
       "      <td>70.2167</td>\n",
       "      <td>41.31</td>\n",
       "      <td>77</td>\n",
       "      <td>84</td>\n",
       "      <td>42.48</td>\n",
       "      <td>TF</td>\n",
       "      <td>1690405655</td>\n",
       "    </tr>\n",
       "  </tbody>\n",
       "</table>\n",
       "</div>"
      ],
      "text/plain": [
       "   City_ID               City      Lat       Lng  Max Temp  Humidity  \\\n",
       "0        0            talnakh  69.4865   88.3972     69.21        66   \n",
       "1        1             navoiy  40.0844   65.3792     81.88        18   \n",
       "2        2            chonchi -42.6128  -73.8092     48.11        93   \n",
       "3        3        yellowknife  62.4560 -114.3525     75.60        30   \n",
       "4        4  port-aux-francais -49.3500   70.2167     41.31        77   \n",
       "\n",
       "   Cloudiness  Windspeed Country        Date  \n",
       "0           9       5.01      RU  1690405425  \n",
       "1           0       4.61      UZ  1690405653  \n",
       "2         100       0.92      CL  1690405654  \n",
       "3           1      11.48      CA  1690405654  \n",
       "4          84      42.48      TF  1690405655  "
      ]
     },
     "execution_count": 5,
     "metadata": {},
     "output_type": "execute_result"
    }
   ],
   "source": [
    "# Load the CSV file created in Part 1 into a Pandas DataFrame\n",
    "city_data_df = pd.read_csv(r\"C:\\Users\\wstod\\OneDrive\\Desktop\\Python-Api-Challenge\\cities.csv\")\n",
    "\n",
    "# Display sample data\n",
    "city_data_df.head()"
   ]
  },
  {
   "cell_type": "markdown",
   "metadata": {},
   "source": [
    "---\n",
    "\n",
    "### Step 1: Create a map that displays a point for every city in the `city_data_df` DataFrame. The size of the point should be the humidity in each city."
   ]
  },
  {
   "cell_type": "code",
   "execution_count": 9,
   "metadata": {},
   "outputs": [
    {
     "ename": "ImportError",
     "evalue": "Geographic projection support requires: cartopy, geoviews.",
     "output_type": "error",
     "traceback": [
      "\u001b[1;31m---------------------------------------------------------------------------\u001b[0m",
      "\u001b[1;31mImportError\u001b[0m                               Traceback (most recent call last)",
      "Cell \u001b[1;32mIn[9], line 3\u001b[0m\n\u001b[0;32m      1\u001b[0m \u001b[39m# Configure the map plot\u001b[39;00m\n\u001b[1;32m----> 3\u001b[0m map_plot_1 \u001b[39m=\u001b[39m city_data_df\u001b[39m.\u001b[39;49mhvplot\u001b[39m.\u001b[39;49mpoints(\n\u001b[0;32m      4\u001b[0m     \u001b[39m\"\u001b[39;49m\u001b[39mLng\u001b[39;49m\u001b[39m\"\u001b[39;49m,\n\u001b[0;32m      5\u001b[0m     \u001b[39m\"\u001b[39;49m\u001b[39mLat\u001b[39;49m\u001b[39m\"\u001b[39;49m,\n\u001b[0;32m      6\u001b[0m     geo \u001b[39m=\u001b[39;49m \u001b[39mTrue\u001b[39;49;00m,\n\u001b[0;32m      7\u001b[0m     color \u001b[39m=\u001b[39;49m \u001b[39m\"\u001b[39;49m\u001b[39mCity\u001b[39;49m\u001b[39m\"\u001b[39;49m,\n\u001b[0;32m      8\u001b[0m     size \u001b[39m=\u001b[39;49m \u001b[39m\"\u001b[39;49m\u001b[39mHumidity\u001b[39;49m\u001b[39m\"\u001b[39;49m,\n\u001b[0;32m      9\u001b[0m     alpha \u001b[39m=\u001b[39;49m \u001b[39m0.6\u001b[39;49m,\n\u001b[0;32m     10\u001b[0m     tiles \u001b[39m=\u001b[39;49m \u001b[39m\"\u001b[39;49m\u001b[39mOSM\u001b[39;49m\u001b[39m\"\u001b[39;49m\n\u001b[0;32m     11\u001b[0m )\n\u001b[0;32m     13\u001b[0m \u001b[39m# Display the map\u001b[39;00m\n\u001b[0;32m     15\u001b[0m map_plot_1\n",
      "File \u001b[1;32mc:\\Users\\wstod\\anacond3real\\lib\\site-packages\\hvplot\\plotting\\core.py:1626\u001b[0m, in \u001b[0;36mhvPlotTabular.points\u001b[1;34m(self, x, y, **kwds)\u001b[0m\n\u001b[0;32m   1568\u001b[0m \u001b[39mdef\u001b[39;00m \u001b[39mpoints\u001b[39m(\u001b[39mself\u001b[39m, x\u001b[39m=\u001b[39m\u001b[39mNone\u001b[39;00m, y\u001b[39m=\u001b[39m\u001b[39mNone\u001b[39;00m, \u001b[39m*\u001b[39m\u001b[39m*\u001b[39mkwds):\n\u001b[0;32m   1569\u001b[0m \u001b[39m    \u001b[39m\u001b[39m\"\"\"\u001b[39;00m\n\u001b[0;32m   1570\u001b[0m \u001b[39m    A `points` plot visualizes positions in a 2D space. This is useful for example for\u001b[39;00m\n\u001b[0;32m   1571\u001b[0m \u001b[39m    geographic plots.\u001b[39;00m\n\u001b[1;32m   (...)\u001b[0m\n\u001b[0;32m   1624\u001b[0m \u001b[39m    - HoloViews: https://holoviews.org/reference/elements/bokeh/Points.html\u001b[39;00m\n\u001b[0;32m   1625\u001b[0m \u001b[39m    \"\"\"\u001b[39;00m\n\u001b[1;32m-> 1626\u001b[0m     \u001b[39mreturn\u001b[39;00m \u001b[39mself\u001b[39m(x, y, kind\u001b[39m=\u001b[39m\u001b[39m\"\u001b[39m\u001b[39mpoints\u001b[39m\u001b[39m\"\u001b[39m, \u001b[39m*\u001b[39m\u001b[39m*\u001b[39mkwds)\n",
      "File \u001b[1;32mc:\\Users\\wstod\\anacond3real\\lib\\site-packages\\hvplot\\plotting\\core.py:92\u001b[0m, in \u001b[0;36mhvPlotBase.__call__\u001b[1;34m(self, x, y, kind, **kwds)\u001b[0m\n\u001b[0;32m     89\u001b[0m         plot \u001b[39m=\u001b[39m \u001b[39mself\u001b[39m\u001b[39m.\u001b[39m_get_converter(x, y, kind, \u001b[39m*\u001b[39m\u001b[39m*\u001b[39mkwds)(kind, x, y)\n\u001b[0;32m     90\u001b[0m         \u001b[39mreturn\u001b[39;00m pn\u001b[39m.\u001b[39mpanel(plot, \u001b[39m*\u001b[39m\u001b[39m*\u001b[39mpanel_dict)\n\u001b[1;32m---> 92\u001b[0m \u001b[39mreturn\u001b[39;00m \u001b[39mself\u001b[39m\u001b[39m.\u001b[39m_get_converter(x, y, kind, \u001b[39m*\u001b[39m\u001b[39m*\u001b[39mkwds)(kind, x, y)\n",
      "File \u001b[1;32mc:\\Users\\wstod\\anacond3real\\lib\\site-packages\\hvplot\\plotting\\core.py:99\u001b[0m, in \u001b[0;36mhvPlotBase._get_converter\u001b[1;34m(self, x, y, kind, **kwds)\u001b[0m\n\u001b[0;32m     97\u001b[0m y \u001b[39m=\u001b[39m y \u001b[39mor\u001b[39;00m params\u001b[39m.\u001b[39mpop(\u001b[39m\"\u001b[39m\u001b[39my\u001b[39m\u001b[39m\"\u001b[39m, \u001b[39mNone\u001b[39;00m)\n\u001b[0;32m     98\u001b[0m kind \u001b[39m=\u001b[39m kind \u001b[39mor\u001b[39;00m params\u001b[39m.\u001b[39mpop(\u001b[39m\"\u001b[39m\u001b[39mkind\u001b[39m\u001b[39m\"\u001b[39m, \u001b[39mNone\u001b[39;00m)\n\u001b[1;32m---> 99\u001b[0m \u001b[39mreturn\u001b[39;00m HoloViewsConverter(\u001b[39mself\u001b[39m\u001b[39m.\u001b[39m_data, x, y, kind\u001b[39m=\u001b[39mkind, \u001b[39m*\u001b[39m\u001b[39m*\u001b[39mparams)\n",
      "File \u001b[1;32mc:\\Users\\wstod\\anacond3real\\lib\\site-packages\\hvplot\\converter.py:401\u001b[0m, in \u001b[0;36mHoloViewsConverter.__init__\u001b[1;34m(self, data, x, y, kind, by, use_index, group_label, value_label, backlog, persist, use_dask, crs, fields, groupby, dynamic, grid, legend, rot, title, xlim, ylim, clim, symmetric, logx, logy, loglog, hover, subplots, label, invert, stacked, colorbar, datashade, rasterize, row, col, debug, framewise, aggregator, projection, global_extent, geo, precompute, flip_xaxis, flip_yaxis, dynspread, hover_cols, x_sampling, y_sampling, project, tools, attr_labels, coastline, tiles, sort_date, check_symmetric_max, transforms, stream, cnorm, features, rescale_discrete_levels, **kwds)\u001b[0m\n\u001b[0;32m    399\u001b[0m \u001b[39mself\u001b[39m\u001b[39m.\u001b[39mdynamic \u001b[39m=\u001b[39m dynamic\n\u001b[0;32m    400\u001b[0m \u001b[39mself\u001b[39m\u001b[39m.\u001b[39mgeo \u001b[39m=\u001b[39m \u001b[39many\u001b[39m([geo, crs, global_extent, projection, project, coastline, features, tiles])\n\u001b[1;32m--> 401\u001b[0m \u001b[39mself\u001b[39m\u001b[39m.\u001b[39mcrs \u001b[39m=\u001b[39m \u001b[39mself\u001b[39;49m\u001b[39m.\u001b[39;49m_process_crs(data, crs) \u001b[39mif\u001b[39;00m \u001b[39mself\u001b[39m\u001b[39m.\u001b[39mgeo \u001b[39melse\u001b[39;00m \u001b[39mNone\u001b[39;00m\n\u001b[0;32m    402\u001b[0m \u001b[39mself\u001b[39m\u001b[39m.\u001b[39mproject \u001b[39m=\u001b[39m project\n\u001b[0;32m    403\u001b[0m \u001b[39mself\u001b[39m\u001b[39m.\u001b[39mcoastline \u001b[39m=\u001b[39m coastline\n",
      "File \u001b[1;32mc:\\Users\\wstod\\anacond3real\\lib\\site-packages\\hvplot\\converter.py:662\u001b[0m, in \u001b[0;36mHoloViewsConverter._process_crs\u001b[1;34m(self, data, crs)\u001b[0m\n\u001b[0;32m    659\u001b[0m     _crs \u001b[39m=\u001b[39m \u001b[39mgetattr\u001b[39m(data, \u001b[39m'\u001b[39m\u001b[39mattrs\u001b[39m\u001b[39m'\u001b[39m, {})\u001b[39m.\u001b[39mget(crs \u001b[39mor\u001b[39;00m \u001b[39m'\u001b[39m\u001b[39mcrs\u001b[39m\u001b[39m'\u001b[39m, crs)\n\u001b[0;32m    661\u001b[0m \u001b[39mtry\u001b[39;00m:\n\u001b[1;32m--> 662\u001b[0m     \u001b[39mreturn\u001b[39;00m process_crs(_crs)\n\u001b[0;32m    663\u001b[0m \u001b[39mexcept\u001b[39;00m \u001b[39mValueError\u001b[39;00m:\n\u001b[0;32m    664\u001b[0m     \u001b[39m# only raise error if crs was specified in kwargs\u001b[39;00m\n\u001b[0;32m    665\u001b[0m     \u001b[39mif\u001b[39;00m crs:\n",
      "File \u001b[1;32mc:\\Users\\wstod\\anacond3real\\lib\\site-packages\\hvplot\\util.py:248\u001b[0m, in \u001b[0;36mprocess_crs\u001b[1;34m(crs)\u001b[0m\n\u001b[0;32m    246\u001b[0m     missing\u001b[39m.\u001b[39mappend(\u001b[39m'\u001b[39m\u001b[39mpyproj\u001b[39m\u001b[39m'\u001b[39m)\n\u001b[0;32m    247\u001b[0m \u001b[39mif\u001b[39;00m missing:\n\u001b[1;32m--> 248\u001b[0m     \u001b[39mraise\u001b[39;00m \u001b[39mImportError\u001b[39;00m(\u001b[39mf\u001b[39m\u001b[39m'\u001b[39m\u001b[39mGeographic projection support requires: \u001b[39m\u001b[39m{\u001b[39;00m\u001b[39m\"\u001b[39m\u001b[39m, \u001b[39m\u001b[39m\"\u001b[39m\u001b[39m.\u001b[39mjoin(missing)\u001b[39m}\u001b[39;00m\u001b[39m.\u001b[39m\u001b[39m'\u001b[39m)\n\u001b[0;32m    250\u001b[0m \u001b[39mif\u001b[39;00m crs \u001b[39mis\u001b[39;00m \u001b[39mNone\u001b[39;00m:\n\u001b[0;32m    251\u001b[0m     \u001b[39mreturn\u001b[39;00m ccrs\u001b[39m.\u001b[39mPlateCarree()\n",
      "\u001b[1;31mImportError\u001b[0m: Geographic projection support requires: cartopy, geoviews."
     ]
    }
   ],
   "source": [
    "%%capture --no-display\n",
    "\n",
    "# Configure the map plot\n",
    "\n",
    "map_plot_1 = city_data_df.hvplot.points(\n",
    "    \"Lng\",\n",
    "    \"Lat\",\n",
    "    geo = True,\n",
    "    color = \"City\",\n",
    "    size = \"Humidity\",\n",
    "    alpha = 0.6,\n",
    "    tiles = \"OSM\"\n",
    ")\n",
    "\n",
    "# Display the map\n",
    "\n",
    "map_plot_1"
   ]
  },
  {
   "cell_type": "markdown",
   "metadata": {},
   "source": [
    "### Step 2: Narrow down the `city_data_df` DataFrame to find your ideal weather condition"
   ]
  },
  {
   "cell_type": "code",
   "execution_count": 8,
   "metadata": {},
   "outputs": [
    {
     "data": {
      "text/html": [
       "<div>\n",
       "<style scoped>\n",
       "    .dataframe tbody tr th:only-of-type {\n",
       "        vertical-align: middle;\n",
       "    }\n",
       "\n",
       "    .dataframe tbody tr th {\n",
       "        vertical-align: top;\n",
       "    }\n",
       "\n",
       "    .dataframe thead th {\n",
       "        text-align: right;\n",
       "    }\n",
       "</style>\n",
       "<table border=\"1\" class=\"dataframe\">\n",
       "  <thead>\n",
       "    <tr style=\"text-align: right;\">\n",
       "      <th></th>\n",
       "      <th>City_ID</th>\n",
       "      <th>City</th>\n",
       "      <th>Lat</th>\n",
       "      <th>Lng</th>\n",
       "      <th>Max Temp</th>\n",
       "      <th>Humidity</th>\n",
       "      <th>Cloudiness</th>\n",
       "      <th>Windspeed</th>\n",
       "      <th>Country</th>\n",
       "      <th>Date</th>\n",
       "    </tr>\n",
       "  </thead>\n",
       "  <tbody>\n",
       "  </tbody>\n",
       "</table>\n",
       "</div>"
      ],
      "text/plain": [
       "Empty DataFrame\n",
       "Columns: [City_ID, City, Lat, Lng, Max Temp, Humidity, Cloudiness, Windspeed, Country, Date]\n",
       "Index: []"
      ]
     },
     "execution_count": 8,
     "metadata": {},
     "output_type": "execute_result"
    }
   ],
   "source": [
    "# Narrow down cities that fit criteria and drop any results with null values\n",
    "weather_filtered_df = city_data_df.loc[(city_data_df[\"Max Temp\"] < 27)\n",
    "                                       & (city_data_df[\"Max Temp\"] > 21)\n",
    "                                       & (city_data_df[\"Cloudiness\"] == 0)\n",
    "                                       & (city_data_df[\"Windspeed\"] < 4.5)\n",
    "]\n",
    "\n",
    "# Drop any rows with null values\n",
    "weather_filtered_df.dropna()\n",
    "\n",
    "# Display sample data\n",
    "weather_filtered_df"
   ]
  },
  {
   "cell_type": "markdown",
   "metadata": {},
   "source": [
    "### Step 3: Create a new DataFrame called `hotel_df`."
   ]
  },
  {
   "cell_type": "code",
   "execution_count": 29,
   "metadata": {},
   "outputs": [
    {
     "data": {
      "text/html": [
       "<div>\n",
       "<style scoped>\n",
       "    .dataframe tbody tr th:only-of-type {\n",
       "        vertical-align: middle;\n",
       "    }\n",
       "\n",
       "    .dataframe tbody tr th {\n",
       "        vertical-align: top;\n",
       "    }\n",
       "\n",
       "    .dataframe thead th {\n",
       "        text-align: right;\n",
       "    }\n",
       "</style>\n",
       "<table border=\"1\" class=\"dataframe\">\n",
       "  <thead>\n",
       "    <tr style=\"text-align: right;\">\n",
       "      <th></th>\n",
       "      <th>City</th>\n",
       "      <th>Country</th>\n",
       "      <th>Lat</th>\n",
       "      <th>Lng</th>\n",
       "      <th>Humidity</th>\n",
       "      <th>Hotel Name</th>\n",
       "    </tr>\n",
       "  </thead>\n",
       "  <tbody>\n",
       "  </tbody>\n",
       "</table>\n",
       "</div>"
      ],
      "text/plain": [
       "Empty DataFrame\n",
       "Columns: [City, Country, Lat, Lng, Humidity, Hotel Name]\n",
       "Index: []"
      ]
     },
     "execution_count": 29,
     "metadata": {},
     "output_type": "execute_result"
    }
   ],
   "source": [
    "# Use the Pandas copy function to create DataFrame called hotel_df to store the city, country, coordinates, and humidity\n",
    "hotel_df = weather_filtered_df[[\"City\", \"Country\", \"Lat\", \"Lng\", \"Humidity\"]].copy()\n",
    "\n",
    "# Add an empty column, \"Hotel Name,\" to the DataFrame so you can store the hotel found using the Geoapify API\n",
    "hotel_df[\"Hotel Name\"] = \"\"\n",
    "\n",
    "# Display sample data\n",
    "hotel_df"
   ]
  },
  {
   "cell_type": "markdown",
   "metadata": {},
   "source": [
    "### Step 4: For each city, use the Geoapify API to find the first hotel located within 10,000 metres of your coordinates."
   ]
  },
  {
   "cell_type": "code",
   "execution_count": 35,
   "metadata": {},
   "outputs": [
    {
     "name": "stdout",
     "output_type": "stream",
     "text": [
      "Starting hotel search\n"
     ]
    },
    {
     "data": {
      "text/html": [
       "<div>\n",
       "<style scoped>\n",
       "    .dataframe tbody tr th:only-of-type {\n",
       "        vertical-align: middle;\n",
       "    }\n",
       "\n",
       "    .dataframe tbody tr th {\n",
       "        vertical-align: top;\n",
       "    }\n",
       "\n",
       "    .dataframe thead th {\n",
       "        text-align: right;\n",
       "    }\n",
       "</style>\n",
       "<table border=\"1\" class=\"dataframe\">\n",
       "  <thead>\n",
       "    <tr style=\"text-align: right;\">\n",
       "      <th></th>\n",
       "      <th>City</th>\n",
       "      <th>Country</th>\n",
       "      <th>Lat</th>\n",
       "      <th>Lng</th>\n",
       "      <th>Humidity</th>\n",
       "      <th>Hotel Name</th>\n",
       "    </tr>\n",
       "  </thead>\n",
       "  <tbody>\n",
       "  </tbody>\n",
       "</table>\n",
       "</div>"
      ],
      "text/plain": [
       "Empty DataFrame\n",
       "Columns: [City, Country, Lat, Lng, Humidity, Hotel Name]\n",
       "Index: []"
      ]
     },
     "execution_count": 35,
     "metadata": {},
     "output_type": "execute_result"
    }
   ],
   "source": [
    "# Set parameters to search for a hotel\n",
    "radius = 10000\n",
    "params = {\n",
    "    \"categories\": \"accomodation.hotel\",\n",
    "    \"apiKey\":geoapify_key\n",
    "}\n",
    "\n",
    "# Print a message to follow up the hotel search\n",
    "print(\"Starting hotel search\")\n",
    "\n",
    "# Iterate through the hotel_df DataFrame\n",
    "for index, row in hotel_df.iterrows():\n",
    "    # get latitude, longitude from the DataFrame\n",
    "    longitude = row[\"Lng\"]\n",
    "    latitude = row[\"Lat\"]\n",
    "    \n",
    "    # Add filter and bias parameters with the current city's latitude and longitude to the params dictionary\n",
    "    params[\"filter\"] = f\"circle:{longitude},{latitude},{radius}\"\n",
    "    params[\"bias\"] = f\"proximity:{longitude},{latitude}\"\n",
    "    \n",
    "    # Set base URL\n",
    "    base_url = \"https://api.geoapify.com/v2/places\"\n",
    "\n",
    "\n",
    "    # Make and API request using the params dictionaty\n",
    "    name_address = requests.get(base_url, params=params)\n",
    "    \n",
    "    # Convert the API response to JSON format\n",
    "    name_address = name_address.json()\n",
    "    \n",
    "    # Grab the first hotel from the results and store the name in the hotel_df DataFrame\n",
    "    try:\n",
    "        hotel_df.loc[index, \"Hotel Name\"] = name_address[\"features\"][0][\"properties\"][\"name\"]\n",
    "    except (KeyError, IndexError):\n",
    "        # If no hotel is found, set the hotel name as \"No hotel found\".\n",
    "        hotel_df.loc[index, \"Hotel Name\"] = \"No hotel found\"\n",
    "        \n",
    "    # Log the search results\n",
    "    print(f\"{hotel_df.loc[index, 'City']} - nearest hotel: {hotel_df.loc[index, 'Hotel Name']}\")\n",
    "\n",
    "# Display sample data\n",
    "hotel_df"
   ]
  },
  {
   "cell_type": "markdown",
   "metadata": {},
   "source": [
    "### Step 5: Add the hotel name and the country as additional information in the hover message for each city in the map."
   ]
  },
  {
   "cell_type": "code",
   "execution_count": 36,
   "metadata": {},
   "outputs": [
    {
     "ename": "ImportError",
     "evalue": "Geographic projection support requires: cartopy, geoviews, pyproj.",
     "output_type": "error",
     "traceback": [
      "\u001b[1;31m---------------------------------------------------------------------------\u001b[0m",
      "\u001b[1;31mImportError\u001b[0m                               Traceback (most recent call last)",
      "Cell \u001b[1;32mIn[36], line 2\u001b[0m\n\u001b[0;32m      1\u001b[0m \u001b[39m# Configure the map plot\u001b[39;00m\n\u001b[1;32m----> 2\u001b[0m map_plot_2 \u001b[39m=\u001b[39m hotel_df\u001b[39m.\u001b[39;49mhvplot\u001b[39m.\u001b[39;49mpoints(\u001b[39m\"\u001b[39;49m\u001b[39mLng\u001b[39;49m\u001b[39m\"\u001b[39;49m, \n\u001b[0;32m      3\u001b[0m                                    \u001b[39m\"\u001b[39;49m\u001b[39mLat\u001b[39;49m\u001b[39m\"\u001b[39;49m, \n\u001b[0;32m      4\u001b[0m                                    geo \u001b[39m=\u001b[39;49m \u001b[39mTrue\u001b[39;49;00m,\n\u001b[0;32m      5\u001b[0m                                    color \u001b[39m=\u001b[39;49m \u001b[39m\"\u001b[39;49m\u001b[39mCity\u001b[39;49m\u001b[39m\"\u001b[39;49m,\n\u001b[0;32m      6\u001b[0m                                    alpha \u001b[39m=\u001b[39;49m \u001b[39m0.8\u001b[39;49m,\n\u001b[0;32m      7\u001b[0m                                    size \u001b[39m=\u001b[39;49m \u001b[39m\"\u001b[39;49m\u001b[39mHumidity\u001b[39;49m\u001b[39m\"\u001b[39;49m,\n\u001b[0;32m      8\u001b[0m                                    tiles \u001b[39m=\u001b[39;49m \u001b[39m\"\u001b[39;49m\u001b[39mOSM\u001b[39;49m\u001b[39m\"\u001b[39;49m,\n\u001b[0;32m      9\u001b[0m                                    hover_cols \u001b[39m=\u001b[39;49m [\u001b[39m\"\u001b[39;49m\u001b[39mHotel Name\u001b[39;49m\u001b[39m\"\u001b[39;49m, \u001b[39m\"\u001b[39;49m\u001b[39mCountry\u001b[39;49m\u001b[39m\"\u001b[39;49m]\n\u001b[0;32m     10\u001b[0m                                   )\n\u001b[0;32m     12\u001b[0m \u001b[39m# Display the map\u001b[39;00m\n\u001b[0;32m     13\u001b[0m map_plot_2\n",
      "File \u001b[1;32mc:\\Users\\wstod\\AppData\\Local\\Programs\\Python\\Python310\\lib\\site-packages\\hvplot\\plotting\\core.py:1626\u001b[0m, in \u001b[0;36mhvPlotTabular.points\u001b[1;34m(self, x, y, **kwds)\u001b[0m\n\u001b[0;32m   1568\u001b[0m \u001b[39mdef\u001b[39;00m \u001b[39mpoints\u001b[39m(\u001b[39mself\u001b[39m, x\u001b[39m=\u001b[39m\u001b[39mNone\u001b[39;00m, y\u001b[39m=\u001b[39m\u001b[39mNone\u001b[39;00m, \u001b[39m*\u001b[39m\u001b[39m*\u001b[39mkwds):\n\u001b[0;32m   1569\u001b[0m \u001b[39m    \u001b[39m\u001b[39m\"\"\"\u001b[39;00m\n\u001b[0;32m   1570\u001b[0m \u001b[39m    A `points` plot visualizes positions in a 2D space. This is useful for example for\u001b[39;00m\n\u001b[0;32m   1571\u001b[0m \u001b[39m    geographic plots.\u001b[39;00m\n\u001b[1;32m   (...)\u001b[0m\n\u001b[0;32m   1624\u001b[0m \u001b[39m    - HoloViews: https://holoviews.org/reference/elements/bokeh/Points.html\u001b[39;00m\n\u001b[0;32m   1625\u001b[0m \u001b[39m    \"\"\"\u001b[39;00m\n\u001b[1;32m-> 1626\u001b[0m     \u001b[39mreturn\u001b[39;00m \u001b[39mself\u001b[39m(x, y, kind\u001b[39m=\u001b[39m\u001b[39m\"\u001b[39m\u001b[39mpoints\u001b[39m\u001b[39m\"\u001b[39m, \u001b[39m*\u001b[39m\u001b[39m*\u001b[39mkwds)\n",
      "File \u001b[1;32mc:\\Users\\wstod\\AppData\\Local\\Programs\\Python\\Python310\\lib\\site-packages\\hvplot\\plotting\\core.py:92\u001b[0m, in \u001b[0;36mhvPlotBase.__call__\u001b[1;34m(self, x, y, kind, **kwds)\u001b[0m\n\u001b[0;32m     89\u001b[0m         plot \u001b[39m=\u001b[39m \u001b[39mself\u001b[39m\u001b[39m.\u001b[39m_get_converter(x, y, kind, \u001b[39m*\u001b[39m\u001b[39m*\u001b[39mkwds)(kind, x, y)\n\u001b[0;32m     90\u001b[0m         \u001b[39mreturn\u001b[39;00m pn\u001b[39m.\u001b[39mpanel(plot, \u001b[39m*\u001b[39m\u001b[39m*\u001b[39mpanel_dict)\n\u001b[1;32m---> 92\u001b[0m \u001b[39mreturn\u001b[39;00m \u001b[39mself\u001b[39m\u001b[39m.\u001b[39m_get_converter(x, y, kind, \u001b[39m*\u001b[39m\u001b[39m*\u001b[39mkwds)(kind, x, y)\n",
      "File \u001b[1;32mc:\\Users\\wstod\\AppData\\Local\\Programs\\Python\\Python310\\lib\\site-packages\\hvplot\\plotting\\core.py:99\u001b[0m, in \u001b[0;36mhvPlotBase._get_converter\u001b[1;34m(self, x, y, kind, **kwds)\u001b[0m\n\u001b[0;32m     97\u001b[0m y \u001b[39m=\u001b[39m y \u001b[39mor\u001b[39;00m params\u001b[39m.\u001b[39mpop(\u001b[39m\"\u001b[39m\u001b[39my\u001b[39m\u001b[39m\"\u001b[39m, \u001b[39mNone\u001b[39;00m)\n\u001b[0;32m     98\u001b[0m kind \u001b[39m=\u001b[39m kind \u001b[39mor\u001b[39;00m params\u001b[39m.\u001b[39mpop(\u001b[39m\"\u001b[39m\u001b[39mkind\u001b[39m\u001b[39m\"\u001b[39m, \u001b[39mNone\u001b[39;00m)\n\u001b[1;32m---> 99\u001b[0m \u001b[39mreturn\u001b[39;00m HoloViewsConverter(\u001b[39mself\u001b[39m\u001b[39m.\u001b[39m_data, x, y, kind\u001b[39m=\u001b[39mkind, \u001b[39m*\u001b[39m\u001b[39m*\u001b[39mparams)\n",
      "File \u001b[1;32mc:\\Users\\wstod\\AppData\\Local\\Programs\\Python\\Python310\\lib\\site-packages\\hvplot\\converter.py:401\u001b[0m, in \u001b[0;36mHoloViewsConverter.__init__\u001b[1;34m(self, data, x, y, kind, by, use_index, group_label, value_label, backlog, persist, use_dask, crs, fields, groupby, dynamic, grid, legend, rot, title, xlim, ylim, clim, symmetric, logx, logy, loglog, hover, subplots, label, invert, stacked, colorbar, datashade, rasterize, row, col, debug, framewise, aggregator, projection, global_extent, geo, precompute, flip_xaxis, flip_yaxis, dynspread, hover_cols, x_sampling, y_sampling, project, tools, attr_labels, coastline, tiles, sort_date, check_symmetric_max, transforms, stream, cnorm, features, rescale_discrete_levels, **kwds)\u001b[0m\n\u001b[0;32m    399\u001b[0m \u001b[39mself\u001b[39m\u001b[39m.\u001b[39mdynamic \u001b[39m=\u001b[39m dynamic\n\u001b[0;32m    400\u001b[0m \u001b[39mself\u001b[39m\u001b[39m.\u001b[39mgeo \u001b[39m=\u001b[39m \u001b[39many\u001b[39m([geo, crs, global_extent, projection, project, coastline, features, tiles])\n\u001b[1;32m--> 401\u001b[0m \u001b[39mself\u001b[39m\u001b[39m.\u001b[39mcrs \u001b[39m=\u001b[39m \u001b[39mself\u001b[39;49m\u001b[39m.\u001b[39;49m_process_crs(data, crs) \u001b[39mif\u001b[39;00m \u001b[39mself\u001b[39m\u001b[39m.\u001b[39mgeo \u001b[39melse\u001b[39;00m \u001b[39mNone\u001b[39;00m\n\u001b[0;32m    402\u001b[0m \u001b[39mself\u001b[39m\u001b[39m.\u001b[39mproject \u001b[39m=\u001b[39m project\n\u001b[0;32m    403\u001b[0m \u001b[39mself\u001b[39m\u001b[39m.\u001b[39mcoastline \u001b[39m=\u001b[39m coastline\n",
      "File \u001b[1;32mc:\\Users\\wstod\\AppData\\Local\\Programs\\Python\\Python310\\lib\\site-packages\\hvplot\\converter.py:662\u001b[0m, in \u001b[0;36mHoloViewsConverter._process_crs\u001b[1;34m(self, data, crs)\u001b[0m\n\u001b[0;32m    659\u001b[0m     _crs \u001b[39m=\u001b[39m \u001b[39mgetattr\u001b[39m(data, \u001b[39m'\u001b[39m\u001b[39mattrs\u001b[39m\u001b[39m'\u001b[39m, {})\u001b[39m.\u001b[39mget(crs \u001b[39mor\u001b[39;00m \u001b[39m'\u001b[39m\u001b[39mcrs\u001b[39m\u001b[39m'\u001b[39m, crs)\n\u001b[0;32m    661\u001b[0m \u001b[39mtry\u001b[39;00m:\n\u001b[1;32m--> 662\u001b[0m     \u001b[39mreturn\u001b[39;00m process_crs(_crs)\n\u001b[0;32m    663\u001b[0m \u001b[39mexcept\u001b[39;00m \u001b[39mValueError\u001b[39;00m:\n\u001b[0;32m    664\u001b[0m     \u001b[39m# only raise error if crs was specified in kwargs\u001b[39;00m\n\u001b[0;32m    665\u001b[0m     \u001b[39mif\u001b[39;00m crs:\n",
      "File \u001b[1;32mc:\\Users\\wstod\\AppData\\Local\\Programs\\Python\\Python310\\lib\\site-packages\\hvplot\\util.py:248\u001b[0m, in \u001b[0;36mprocess_crs\u001b[1;34m(crs)\u001b[0m\n\u001b[0;32m    246\u001b[0m     missing\u001b[39m.\u001b[39mappend(\u001b[39m'\u001b[39m\u001b[39mpyproj\u001b[39m\u001b[39m'\u001b[39m)\n\u001b[0;32m    247\u001b[0m \u001b[39mif\u001b[39;00m missing:\n\u001b[1;32m--> 248\u001b[0m     \u001b[39mraise\u001b[39;00m \u001b[39mImportError\u001b[39;00m(\u001b[39mf\u001b[39m\u001b[39m'\u001b[39m\u001b[39mGeographic projection support requires: \u001b[39m\u001b[39m{\u001b[39;00m\u001b[39m\"\u001b[39m\u001b[39m, \u001b[39m\u001b[39m\"\u001b[39m\u001b[39m.\u001b[39mjoin(missing)\u001b[39m}\u001b[39;00m\u001b[39m.\u001b[39m\u001b[39m'\u001b[39m)\n\u001b[0;32m    250\u001b[0m \u001b[39mif\u001b[39;00m crs \u001b[39mis\u001b[39;00m \u001b[39mNone\u001b[39;00m:\n\u001b[0;32m    251\u001b[0m     \u001b[39mreturn\u001b[39;00m ccrs\u001b[39m.\u001b[39mPlateCarree()\n",
      "\u001b[1;31mImportError\u001b[0m: Geographic projection support requires: cartopy, geoviews, pyproj."
     ]
    }
   ],
   "source": [
    "%%capture --no-display\n",
    "\n",
    "# Configure the map plot\n",
    "map_plot_2 = hotel_df.hvplot.points(\"Lng\", \n",
    "                                   \"Lat\", \n",
    "                                   geo = True,\n",
    "                                   color = \"City\",\n",
    "                                   alpha = 0.8,\n",
    "                                   size = \"Humidity\",\n",
    "                                   tiles = \"OSM\",\n",
    "                                   hover_cols = [\"Hotel Name\", \"Country\"]\n",
    "                                  )\n",
    "\n",
    "# Display the map\n",
    "map_plot_2"
   ]
  },
  {
   "cell_type": "code",
   "execution_count": null,
   "metadata": {},
   "outputs": [],
   "source": []
  }
 ],
 "metadata": {
  "kernelspec": {
   "display_name": "Python 3 (ipykernel)",
   "language": "python",
   "name": "python3"
  },
  "language_info": {
   "codemirror_mode": {
    "name": "ipython",
    "version": 3
   },
   "file_extension": ".py",
   "mimetype": "text/x-python",
   "name": "python",
   "nbconvert_exporter": "python",
   "pygments_lexer": "ipython3",
   "version": "3.10.9"
  },
  "latex_envs": {
   "LaTeX_envs_menu_present": true,
   "autoclose": false,
   "autocomplete": true,
   "bibliofile": "biblio.bib",
   "cite_by": "apalike",
   "current_citInitial": 1,
   "eqLabelWithNumbers": true,
   "eqNumInitial": 1,
   "hotkeys": {
    "equation": "Ctrl-E",
    "itemize": "Ctrl-I"
   },
   "labels_anchors": false,
   "latex_user_defs": false,
   "report_style_numbering": false,
   "user_envs_cfg": false
  }
 },
 "nbformat": 4,
 "nbformat_minor": 4
}
